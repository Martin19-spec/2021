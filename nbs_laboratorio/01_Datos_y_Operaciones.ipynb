{
 "cells": [
  {
   "cell_type": "markdown",
   "execution_count": null,
   "metadata": {},
   "outputs": [],
   "source": [
    "<a href=\"https://colab.research.google.com/github/jumafernandez/IntroProg_UNLu/blob/master/nbs_laboratorio/01_Datos_y_Operaciones.ipynb\"\n",
    "   target=\"_parent\" style=\"float: left\">\n",
    "<img src=\"https://colab.research.google.com/assets/colab-badge.svg\" alt=\"Open In Colab\"/>\n",
    "</a>\n",
    "\n",
    "# Datos y Operaciones\n",
    "---\n",
    "\n",
    "\n",
    "\n"
   ]
  },
  {
   "cell_type": "markdown",
   "execution_count": null,
   "metadata": {},
   "outputs": [],
   "source": [
    "## Algunos tipos de datos de Python (Builtin Types)\n",
    "\n"
   ]
  },
  {
   "cell_type": "code",
   "execution_count": null,
   "metadata": {},
   "outputs": [],
   "source": [
    "import math\n",
    "\n",
    "\n",
    "def una_funcion():\n",
    "    \"\"\"\n",
    "    Esto es un comentario del proposito de nuestra primer\n",
    "    definición de una función\n",
    "    \"\"\"\n",
    "    print(\"Hola Mundo\")\n",
    "    return 42\n",
    "\n",
    "print(\"Algunos tipos basicos de Python:\")\n",
    "print(type(2))           # int - entero\n",
    "print(type(2.2))         # float - punto flotante o real\n",
    "print(type(2 < 2.2))     # bool (boolean) - booleano\n",
    "print(type(type(42)))    # type - tipo (?)\n",
    "\n",
    "print(\"#####################################################\")\n",
    "\n",
    "print(\"Algunos otros que usaremos más adelante...\")\n",
    "print(type(\"2.2\"))       # str (string or text) - cadena de caracteres\n",
    "print(type([1,2,3]))     # list - lista\n",
    "print(type((1,2,3)))     # tuple - tupla\n",
    "print(type({1,2}))       # set - conjunto\n",
    "print(type({1:42}))      # dict (dictionary or map) - diccionario\n",
    "print(type(2+3j))        # complex  (complex number) - números complejos"
   ]
  },
  {
   "cell_type": "markdown",
   "execution_count": null,
   "metadata": {},
   "outputs": [],
   "source": [
    "<a id='builtin-constants'></a>\n",
    "## Algunas Constantes de Python (Builtin Constants)\n"
   ]
  },
  {
   "cell_type": "code",
   "execution_count": null,
   "metadata": {},
   "outputs": [],
   "source": [
    "print(\"Algunas constantes incorporadas:\")\n",
    "print(True)\n",
    "print(False)\n",
    "print(None)\n",
    "\n",
    "print(\"...y algunas otras constantes en el módulo math:\")\n",
    "import math\n",
    "print(math.pi)\n",
    "print(math.e)"
   ]
  },
  {
   "cell_type": "markdown",
   "execution_count": null,
   "metadata": {},
   "outputs": [],
   "source": [
    "<a id='builtin-operators'></a>\n",
    "## Algunos Operadores de Python (Builtin Operators)\n",
    "\n",
    "\n",
    "| **Categoria**     | **Operador**                                      |\n",
    "|-------------------|:-------------------------------------------------:|\n",
    "| **Aritmérico**    | \t+, -, *, /, //, \\**, %, - (unario), + (unario)  |\n",
    "| **Relacional**    | \t<, <=, >=, >, ==, !=                            |\n",
    "| **De Asignación** | \t+=, -=, *=, /=, //=, \\**=, %=, <<=, >>=         |\n",
    "| **Lógico**        |  and, or, not                                     |\n",
    "\n",
    "**_Nota: por ahora no cubriremos los operadores bit a bit (<<, >>, &, |, ^, ~, &=, |=, ^=)._**"
   ]
  },
  {
   "cell_type": "markdown",
   "execution_count": null,
   "metadata": {},
   "outputs": [],
   "source": [
    "<a id='integer-division'></a>\n",
    "## División Entera (Integer Division)\n",
    "\n",
    "\n"
   ]
  },
  {
   "cell_type": "code",
   "execution_count": null,
   "metadata": {},
   "outputs": [],
   "source": [
    "print(\"El operador / hace la división real, punto flotante o 'común' (float division):\")\n",
    "print(\" 5/3  =\", ( 5/3))\n",
    "print()\n",
    "print(\"El operador // hace la división entera (integer division):\")\n",
    "print(\" 5//3 =\", ( 5//3))\n",
    "print(\" 2//3 =\", ( 2//3))\n",
    "print(\"-1//3 =\", (-1//3))\n",
    "print(\"-4//3 =\", (-4//3))"
   ]
  },
  {
   "cell_type": "markdown",
   "execution_count": null,
   "metadata": {},
   "outputs": [],
   "source": [
    "<a id='modulus'></a>\n",
    "## Módulo o Resto - Operador (%)\n",
    "\n"
   ]
  },
  {
   "cell_type": "code",
   "execution_count": null,
   "metadata": {},
   "outputs": [],
   "source": [
    "print(\" 6 % 3 =\", ( 6%3))\n",
    "print(\" 5 % 3 =\", ( 5%3))\n",
    "print(\" 2 % 3 =\", ( 2%3))\n",
    "print(\" 0 % 3 =\", ( 0%3))\n",
    "print(\"-4 % 3 =\", (-4%3))\n",
    "print(\" 3 % 0 =\", ( 3%0))"
   ]
  },
  {
   "cell_type": "markdown",
   "execution_count": null,
   "metadata": {},
   "outputs": [],
   "source": [
    "<a id='more-of-modulus'></a>\n",
    "## Más sobre el Módulo o el resto - Operador (%)\n",
    "\n",
    "**Verifique que (x % y) es equivalente a (x - (x//y) * y):**\n"
   ]
  },
  {
   "cell_type": "code",
   "execution_count": null,
   "metadata": {},
   "outputs": [],
   "source": [
    "def mod(x, y):\n",
    "  return x - (x//y)*y\n",
    "\n",
    "print(41 % 14, mod(41,14))\n",
    "print(14 % 41, mod(14,41))\n",
    "print(-32 % 9, mod(-32,9))\n",
    "print(32 % -9, mod(32,-9))"
   ]
  },
  {
   "cell_type": "markdown",
   "execution_count": null,
   "metadata": {},
   "outputs": [],
   "source": [
    "<a id='semantics'></a>\n",
    "## Los tipos (_types_) afectan la Semantica\n",
    "\n"
   ]
  },
  {
   "cell_type": "code",
   "execution_count": null,
   "metadata": {},
   "outputs": [],
   "source": [
    "print(3 * 2)\n",
    "print(3 * \"abc\")\n",
    "print(3 + 2)\n",
    "print(\"abc\" + \"def\")\n",
    "print(3 + \"def\")"
   ]
  },
  {
   "cell_type": "markdown",
   "execution_count": null,
   "metadata": {},
   "outputs": [],
   "source": [
    "<a id='operator-order'></a>\n",
    "## Orden de Operadores (Precedencia y Asociatividad)\n",
    "\n"
   ]
  },
  {
   "cell_type": "code",
   "execution_count": null,
   "metadata": {},
   "outputs": [],
   "source": [
    "print(\"Precedencia:\")\n",
    "print(2+3*4)  # imprime 14, no 20\n",
    "print(5+4%3)  # imprime  6, no 0 (% tiene la misma precedencia que *, /, y //)\n",
    "print(2**3*4) # imprime 32, no 4096 (** tiene mayor precedencia que *, /, //, y %)\n",
    "\n",
    "print()\n",
    "\n",
    "print(\"Asociatividad:\")\n",
    "print(5-4-3)   # imprime -2, no 4        (- asocia de izquierda a derecha)\n",
    "print(4**3**2) # imprime 262144, no 4096 (** asocia de derecha a izqueirda)"
   ]
  },
  {
   "cell_type": "markdown",
   "execution_count": null,
   "metadata": {},
   "outputs": [],
   "source": [
    "<a id='approximate-values'></a>\n",
    "## Números Reales - Valores Aproximados\n",
    "\n"
   ]
  },
  {
   "cell_type": "code",
   "execution_count": null,
   "metadata": {},
   "outputs": [],
   "source": [
    "print(0.1 + 0.1 == 0.2)        # Verdadero, pero...\n",
    "print(0.1 + 0.1 + 0.1 == 0.3)  # Falso!\n",
    "print(0.1 + 0.1 + 0.1)         # Imprime 0.30000000000000004 (ups!)\n",
    "print((0.1 + 0.1 + 0.1) - 0.3) # Imprime 5.55111512313e-17 (casi..., pero no es cero!)"
   ]
  },
  {
   "cell_type": "markdown",
   "execution_count": null,
   "metadata": {},
   "outputs": [],
   "source": [
    "**Prueba de igualdad o casi igual:**"
   ]
  },
  {
   "cell_type": "code",
   "execution_count": null,
   "metadata": {},
   "outputs": [],
   "source": [
    "print(\"El problema...\")\n",
    "d1 = 0.1 + 0.1 + 0.1\n",
    "d2 = 0.3\n",
    "print(d1 == d2)                # Falso (nunca usar == con números reales!)\n",
    "\n",
    "print()\n",
    "print(\"La solución...\")\n",
    "epsilon = 10**-10\n",
    "print(abs(d2 - d1) < epsilon)  # Verdadero!\n",
    "\n",
    "print()\n",
    "print(\"Otra vez, pero usando una muy útil funcion de ayuda (helper), casiIgual:\")\n",
    "\n",
    "def casiIgual(d1, d2):\n",
    "    epsilon = 10**-10\n",
    "    return (abs(d2 - d1) < epsilon)\n",
    "\n",
    "d1 = 0.1 + 0.1 + 0.1\n",
    "d2 = 0.3\n",
    "print(d1 == d2)            # sigue siendo Falso, por supuesto!\n",
    "print(casiIgual(d1, d2)) # Verdadero, y ahora en una función reutilizable!"
   ]
  },
  {
   "cell_type": "markdown",
   "execution_count": null,
   "metadata": {},
   "outputs": [],
   "source": [
    "<a id='corto-circuito'></a>\n",
    "## Evaluación Corto Circuito"
   ]
  },
  {
   "cell_type": "code",
   "execution_count": null,
   "metadata": {},
   "outputs": [],
   "source": [
    "def si():\n",
    "    return True\n",
    "\n",
    "def no():\n",
    "    return False\n",
    "\n",
    "def explota():\n",
    "    return 1/0 # explota!\n",
    "\n",
    "print('Ejemplo 1')\n",
    "print(no() and explota()) # Funciona!\n",
    "\n",
    "print('Ejemplo 2')\n",
    "print(explota() and no()) # Explota!\n",
    "\n",
    "print('Ejemplo 3')\n",
    "print (no() and explota()) # Nunca se ejecuta, pero puede explotar si no ocurre el corto circuito."
   ]
  },
  {
   "cell_type": "markdown",
   "execution_count": null,
   "metadata": {},
   "outputs": [],
   "source": [
    "**Una vez más, usando el operador \"or\"**"
   ]
  },
  {
   "cell_type": "code",
   "execution_count": null,
   "metadata": {},
   "outputs": [],
   "source": [
    "def si():\n",
    "    return True\n",
    "\n",
    "def no():\n",
    "    return False\n",
    "\n",
    "def explota():\n",
    "    return 1/0 # explota!\n",
    "\n",
    "print('Ejemplo 1')\n",
    "print(yes() or crash()) # Funciona!\n",
    "\n",
    "print('Ejemplo 2')\n",
    "print(crash() or yes()) # Explota!\n",
    "\n",
    "print('Ejemplo 3')\n",
    "print(no() or crash())  # Nunca se ejecuta, pero puede explotar si no ocurre el corto circuito."
   ]
  },
  {
   "cell_type": "markdown",
   "execution_count": null,
   "metadata": {},
   "outputs": [],
   "source": [
    "**Otro ejemplo más:**"
   ]
  },
  {
   "cell_type": "code",
   "execution_count": null,
   "metadata": {},
   "outputs": [],
   "source": [
    "def esPositivo(n):\n",
    "    resultado = (n > 0)\n",
    "    print(\"esPositivo(\",n,\") =\", resultado)\n",
    "    return resultado\n",
    "\n",
    "def esPar(n):\n",
    "    resultado = (n % 2 == 0)\n",
    "    print(\"esPar(\",n,\") =\", resultado)\n",
    "    return resultado\n",
    "\n",
    "print(\"Test 1: esPar(-4) y esPositivo(-4))\")\n",
    "print(esPar(-4) and esPositivo(-4)) # Llama a ambas funciones\n",
    "print(\"----------\")\n",
    "print(\"Test 2: esPar(-3) y esPositivo(-3)\")\n",
    "print(esPar(-3) and esPositivo(-3)) # Llama solo a una función!"
   ]
  },
  {
   "cell_type": "markdown",
   "execution_count": null,
   "metadata": {},
   "outputs": [],
   "source": [
    "<a id='type-vs-isinstance'></a>\n",
    "## _type_ vs _isinstance_"
   ]
  },
  {
   "cell_type": "code",
   "execution_count": null,
   "metadata": {},
   "outputs": [],
   "source": [
    "# Ambos type e isinstance pueden ser usadas para chequear el tipo de una variable\n",
    "# En general, (isinstance(x, T)) será más robusto que usar (type(x) == T)\n",
    "\n",
    "print(type(\"abc\") == str)\n",
    "print(isinstance(\"abc\", str))\n",
    "\n",
    "# Encontrarán mejores razones cuando aprendan programación\n",
    "# orientada a objetos\n",
    "#\n",
    "# Por ahora, una razón es la siguiente:\n",
    "# cuando se quiera chequear si un valor es un tipo entero,\n",
    "# real, complejo (int, float, complex, etc). \n",
    "#\n",
    "# Se puede hacer:\n",
    "\n",
    "def esNumero(x):\n",
    "    return ((type(x) == int) or\n",
    "            (type(x) == float)) # estamos seguros que verificamos todo el universo de números?\n",
    "\n",
    "print(esNumero(1), esNumero(1.1), esNumero(1+2j), esNumero(\"wow\"))\n",
    "\n",
    "# Pero será más claro si hacemos...\n",
    "\n",
    "import numbers\n",
    "def esNumero(x):\n",
    "    return isinstance(x, numbers.Number) # funciona para cualquier tipo de número\n",
    "\n",
    "print(esNumero(1), esNumero(1.1), esNumero(1+2j), esNumero(\"wow\"))"
   ]
  }
 ],
 "metadata": {
  "kernelspec": {
   "display_name": "Python 3",
   "language": "python",
   "name": "python3"
  },
  "language_info": {
   "codemirror_mode": {
    "name": "ipython",
    "version": 3
   },
   "file_extension": ".py",
   "mimetype": "text/x-python",
   "name": "python",
   "nbconvert_exporter": "python",
   "pygments_lexer": "ipython3",
   "version": "3.7.5"
  },
  "toc": {
   "base_numbering": 1,
   "nav_menu": {},
   "number_sections": true,
   "sideBar": true,
   "skip_h1_title": true,
   "title_cell": "Contenido",
   "title_sidebar": "Contenido",
   "toc_cell": false,
   "toc_position": {
    "height": "calc(100% - 180px)",
    "left": "10px",
    "top": "150px",
    "width": "384px"
   },
   "toc_section_display": true,
   "toc_window_display": true
  }
 },
 "nbformat": 4,
 "nbformat_minor": 2
}