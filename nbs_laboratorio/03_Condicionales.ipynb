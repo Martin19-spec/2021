{
 "nbformat": 4,
 "nbformat_minor": 2,
 "metadata": {
  "language_info": {
   "name": "python",
   "codemirror_mode": {
    "name": "ipython",
    "version": 3
   },
   "version": "3.7.5-final"
  },
  "orig_nbformat": 2,
  "file_extension": ".py",
  "mimetype": "text/x-python",
  "name": "python",
  "npconvert_exporter": "python",
  "pygments_lexer": "ipython3",
  "version": 3,
  "kernelspec": {
   "name": "python3",
   "display_name": "Python 3"
  }
 },
 "cells": [
  {
   "cell_type": "markdown",
   "execution_count": null,
   "metadata": {},
   "outputs": [],
   "source": [
    "<a href=\"https://colab.research.google.com/github/jumafernandez/IntroProg_UNLu/blob/master/nbs_laboratorio/03_Condicionales.ipynb\"\n",
    "   target=\"_parent\" style=\"float: left\">\n",
    "<img src=\"https://colab.research.google.com/assets/colab-badge.svg\" alt=\"Open In Colab\"/>\n",
    "</a>\n",
    "\n",
    "# Condicionales\n",
    "---\n",
    "\n",
    "**El bloque _if_:**"
   ]
  },
  {
   "cell_type": "code",
   "execution_count": null,
   "metadata": {},
   "outputs": [],
   "source": [
    "def f(x):\n",
    "    print(\"A\", end=\"\")\n",
    "    if (x == 0):\n",
    "        print(\"B\", end=\"\")\n",
    "        print(\"C\", end=\"\")\n",
    "    print(\"D\")\n",
    "\n",
    "f(0)\n",
    "f(1)"
   ]
  },
  {
   "cell_type": "markdown",
   "execution_count": null,
   "metadata": {},
   "outputs": [],
   "source": [
    "**Un ejemplo más interesante:**"
   ]
  },
  {
   "cell_type": "code",
   "execution_count": null,
   "metadata": {},
   "outputs": [],
   "source": [
    "# En estos ejemplos se define una función abs(n),\n",
    "# Es un buen ejemplo, pero recordemos que ya tenemos el abs de Python (builtin).\n",
    "\n",
    "def abs1(n):\n",
    "    if (n < 0):\n",
    "        n = -n\n",
    "    return n\n",
    "\n",
    "# otra vez, pero la misma línea indentada.\n",
    "\n",
    "def abs2(n):\n",
    "    if (n < 0): n = -n # Solo indentamos así líneas muy cortas.\n",
    "    return n\n",
    "\n",
    "# otra vez, pero con varios returns\n",
    "\n",
    "def abs3(n):\n",
    "    if (n < 0):\n",
    "        return -n\n",
    "    return n\n",
    "\n",
    "# además: se puede hacer con aritmética booleana, pero no!\n",
    "\n",
    "def abs4(n):\n",
    "    return (n < 0)*(-n) + (n>=0)*(n) # esto es horrible!\n",
    "    \n",
    "# ahora vemos como funciona esto:\n",
    "\n",
    "print(\"abs1(5) =\", abs1(5), \"and abs1(-5) =\", abs1(-5))\n",
    "print(\"abs2(5) =\", abs2(5), \"and abs2(-5) =\", abs2(-5))\n",
    "print(\"abs3(5) =\", abs3(5), \"and abs3(-5) =\", abs3(-5))\n",
    "print(\"abs4(5) =\", abs4(5), \"and abs4(-5) =\", abs4(-5))"
   ]
  },
  {
   "cell_type": "markdown",
   "execution_count": null,
   "metadata": {},
   "outputs": [],
   "source": [
    "**El bloque _if-else_:**\n"
   ]
  },
  {
   "cell_type": "code",
   "execution_count": null,
   "metadata": {},
   "outputs": [],
   "source": [
    "def f(x):\n",
    "    print(\"A\", end=\"\")\n",
    "    if (x == 0):\n",
    "        print(\"B\", end=\"\")\n",
    "        print(\"C\", end=\"\")\n",
    "    else:\n",
    "        print(\"D\", end=\"\")\n",
    "        if (x == 1):\n",
    "            print(\"E\", end=\"\")\n",
    "        else:\n",
    "            print(\"F\", end=\"\")\n",
    "    print(\"G\")\n",
    "\n",
    "f(0)\n",
    "f(1)\n",
    "f(2)"
   ]
  },
  {
   "cell_type": "markdown",
   "execution_count": null,
   "metadata": {},
   "outputs": [],
   "source": [
    "**Volviendo a _abs(n)_:**"
   ]
  },
  {
   "cell_type": "code",
   "execution_count": null,
   "metadata": {},
   "outputs": [],
   "source": [
    "def abs5(n):\n",
    "    if (n >= 0):\n",
    "        return n\n",
    "    else:\n",
    "        return -n\n",
    "\n",
    "# o, si prefieren...\n",
    "\n",
    "def abs6(n):\n",
    "    if (n >= 0):\n",
    "        sign = +1\n",
    "    else:\n",
    "        sign = -1\n",
    "    return sign * n\n",
    "\n",
    "print(\"abs5(5) =\", abs5(5), \"and abs5(-5) =\", abs5(-5))\n",
    "print(\"abs6(5) =\", abs6(5), \"and abs6(-5) =\", abs6(-5))"
   ]
  },
  {
   "cell_type": "markdown",
   "execution_count": null,
   "metadata": {},
   "outputs": [],
   "source": [
    "**El bloque _if-elif-else_:**"
   ]
  },
  {
   "cell_type": "code",
   "execution_count": null,
   "metadata": {},
   "outputs": [],
   "source": [
    "def f(x):\n",
    "    print(\"A\", end=\"\")\n",
    "    if (x == 0):\n",
    "        print(\"B\", end=\"\")\n",
    "        print(\"C\", end=\"\")\n",
    "    elif (x == 1):\n",
    "        print(\"D\", end=\"\")\n",
    "    else:\n",
    "        print(\"E\", end=\"\")\n",
    "        if (x == 2):\n",
    "            print(\"F\", end=\"\")\n",
    "        else:\n",
    "            print(\"G\", end=\"\")\n",
    "    print(\"H\")\n",
    "\n",
    "f(0)\n",
    "f(1)\n",
    "f(2)\n",
    "f(3)"
   ]
  },
  {
   "cell_type": "markdown",
   "execution_count": null,
   "metadata": {},
   "outputs": [],
   "source": [
    "**Un ejemplo más interesante:**"
   ]
  },
  {
   "cell_type": "code",
   "execution_count": null,
   "metadata": {},
   "outputs": [],
   "source": [
    "def cantidadDeRaices(a, b, c):\n",
    "    # Retorna la cantidad de raices (ceros) de un polinomio de grado 2.\n",
    "    # y = a*x**2 + b*x + c\n",
    "    d = b**2 - 4*a*c\n",
    "    if (d > 0):\n",
    "        return 2\n",
    "    elif (d == 0):\n",
    "        return 1\n",
    "    else:\n",
    "        return 0\n",
    "\n",
    "print(\"y = 4*x**2 + 5*x + 1 tiene\", cantidadDeRaices(4,5,1), \"raices(s).\")\n",
    "print(\"y = 4*x**2 + 4*x + 1 tiene\", cantidadDeRaices(4,4,1), \"raices(s).\")\n",
    "print(\"y = 4*x**2 + 3*x + 1 tiene\", cantidadDeRaices(4,3,1), \"raices(s).\")"
   ]
  },
  {
   "cell_type": "markdown",
   "execution_count": null,
   "metadata": {},
   "outputs": [],
   "source": [
    "**Otro ejemplo:**"
   ]
  },
  {
   "cell_type": "code",
   "execution_count": null,
   "metadata": {},
   "outputs": [],
   "source": [
    "def obtenerNivel(puntos):\n",
    "    if (puntos >= 90):\n",
    "        puntos = \"A\"\n",
    "    elif (puntos >= 80):\n",
    "        puntos = \"B\"\n",
    "    elif (puntos >= 70):\n",
    "        puntos = \"C\"\n",
    "    elif (puntos >= 60):\n",
    "        puntos = \"D\"\n",
    "    else:\n",
    "        puntos = \"F\"\n",
    "    return puntos\n",
    "\n",
    "print(\"103 -->\", obtenerNivel(103))\n",
    "print(\" 88 -->\", obtenerNivel(88))\n",
    "print(\" 70 -->\", obtenerNivel(70))\n",
    "print(\" 61 -->\", obtenerNivel(61))\n",
    "print(\" 22 -->\", obtenerNivel(22))"
   ]
  },
  {
   "cell_type": "markdown",
   "execution_count": null,
   "metadata": {},
   "outputs": [],
   "source": [
    "**Uso de _if-else_ como expresión:**"
   ]
  },
  {
   "cell_type": "code",
   "execution_count": null,
   "metadata": {},
   "outputs": [],
   "source": [
    "# expresión if-else (no es un bloque if-else!)\n",
    "\n",
    "def abs7(n):\n",
    "    return n if (n >= 0) else -n\n",
    "\n",
    "print(\"abs7(5) =\", abs7(5), \"and abs7(-5) =\", abs7(-5))"
   ]
  },
  {
   "cell_type": "markdown",
   "execution_count": null,
   "metadata": {},
   "outputs": [],
   "source": [
    "---\n",
    "\n",
    "**Uso incorrecto**\n",
    "\n",
    "**_NOTA:_ Esta sección es sobre _estilo_ y no sobre _correctitud_. Todos lo ejemplos funcionan, pero algunos son más ingeniosos que otros.**"
   ]
  },
  {
   "cell_type": "markdown",
   "execution_count": null,
   "metadata": {},
   "outputs": [],
   "source": [
    "**Negando condiciones:**"
   ]
  },
  {
   "cell_type": "code",
   "execution_count": null,
   "metadata": {},
   "outputs": [],
   "source": [
    "# Incorrecto:\n",
    "b = True\n",
    "if (not b):\n",
    "    print('NO')\n",
    "else:\n",
    "    print('SI')"
   ]
  },
  {
   "cell_type": "code",
   "execution_count": null,
   "metadata": {},
   "outputs": [],
   "source": [
    "# Correcto:\n",
    "b = True\n",
    "if (b):\n",
    "    print('SI')\n",
    "else:\n",
    "    print('NO')"
   ]
  },
  {
   "cell_type": "markdown",
   "execution_count": null,
   "metadata": {},
   "outputs": [],
   "source": [
    "**Clausula _if_ vacia:**"
   ]
  },
  {
   "cell_type": "code",
   "execution_count": null,
   "metadata": {},
   "outputs": [],
   "source": [
    "# Wrong:\n",
    "b = False\n",
    "if (b):\n",
    "    pass\n",
    "else:\n",
    "    print('no')"
   ]
  },
  {
   "cell_type": "code",
   "execution_count": null,
   "metadata": {},
   "outputs": [],
   "source": [
    "# Right:\n",
    "b = False\n",
    "if (not b):\n",
    "    print('no')"
   ]
  },
  {
   "cell_type": "markdown",
   "execution_count": null,
   "metadata": {},
   "outputs": [],
   "source": [
    "**Usando _if_ en vez de _and_:**"
   ]
  },
  {
   "cell_type": "code",
   "execution_count": null,
   "metadata": {},
   "outputs": [],
   "source": [
    "# Wrong (though not so wrong...):\n",
    "b1 = True\n",
    "b2 = True\n",
    "if (b1):\n",
    "    if (b2):\n",
    "        print('both!')"
   ]
  },
  {
   "cell_type": "code",
   "execution_count": null,
   "metadata": {},
   "outputs": [],
   "source": [
    "# Right (well, maybe just \"preferred\"):\n",
    "b1 = True\n",
    "b2 = True\n",
    "if (b1 and b2):\n",
    "        print('both!')"
   ]
  },
  {
   "cell_type": "markdown",
   "execution_count": null,
   "metadata": {},
   "outputs": [],
   "source": [
    "**Usando _if_ en vez de _else_:**"
   ]
  },
  {
   "cell_type": "code",
   "execution_count": null,
   "metadata": {},
   "outputs": [],
   "source": [
    "# Incorrecto:\n",
    "b = True\n",
    "if (b):\n",
    "    print('SI')\n",
    "if (not b):\n",
    "    print('NO')"
   ]
  },
  {
   "cell_type": "code",
   "execution_count": null,
   "metadata": {},
   "outputs": [],
   "source": [
    "# Correcto:\n",
    "b = True\n",
    "if (b):\n",
    "    print('SI')\n",
    "else:\n",
    "    print('NO')"
   ]
  },
  {
   "cell_type": "markdown",
   "execution_count": null,
   "metadata": {},
   "outputs": [],
   "source": [
    "**Otro ejemplo:**"
   ]
  },
  {
   "cell_type": "code",
   "execution_count": null,
   "metadata": {},
   "outputs": [],
   "source": [
    "# Incorrecto:\n",
    "x = 10\n",
    "if (x < 5):\n",
    "    print('pequeño')\n",
    "if ((x >= 5) and (x < 10)):\n",
    "    print('mediano')\n",
    "if ((x >= 10) and (x < 15)):\n",
    "    print('grande')\n",
    "if (x >= 15):\n",
    "    print('muy grande')"
   ]
  },
  {
   "cell_type": "code",
   "execution_count": null,
   "metadata": {},
   "outputs": [],
   "source": [
    "# Correcto:\n",
    "x = 10\n",
    "if (x < 5):\n",
    "    print('pequeño')\n",
    "elif (x < 10):\n",
    "    print('mediano')\n",
    "elif (x < 15):\n",
    "    print('grande')\n",
    "else:\n",
    "    print('muy grande')"
   ]
  },
  {
   "cell_type": "markdown",
   "execution_count": null,
   "metadata": {},
   "outputs": [],
   "source": [
    "**...y otro más:**"
   ]
  },
  {
   "cell_type": "code",
   "execution_count": null,
   "metadata": {},
   "outputs": [],
   "source": [
    "# Incorrecto:\n",
    "c = 'a'\n",
    "if ((c >= 'A') and (c <= 'Z')):\n",
    "    print('Mayúscula!')\n",
    "if ((c >= 'a') and (c <= 'z')):\n",
    "    print('Minúscula!')\n",
    "if ((c < 'A') or\n",
    "    ((c > 'Z') and (c < 'a')) or (c > 'z')):\n",
    "    print ('no es una letra!')"
   ]
  },
  {
   "cell_type": "code",
   "execution_count": null,
   "metadata": {},
   "outputs": [],
   "source": [
    "# Correcto:\n",
    "c = 'a'\n",
    "if ((c >= 'A') and (c <= 'Z')):\n",
    "    print('Mayúscula!')\n",
    "elif ((c >= 'a') and (c <= 'z')):\n",
    "    print('Minúscula!')\n",
    "else:\n",
    "    print('no es una letra!')"
   ]
  },
  {
   "cell_type": "markdown",
   "execution_count": null,
   "metadata": {},
   "outputs": [],
   "source": [
    "**Usando _\"lógica aritmética\"_ en vez de _\"lógica booleana\"_:**"
   ]
  },
  {
   "cell_type": "code",
   "execution_count": null,
   "metadata": {},
   "outputs": [],
   "source": [
    "# Incorrecto:\n",
    "x = 42\n",
    "y = ((x > 0) and 99)"
   ]
  },
  {
   "cell_type": "code",
   "execution_count": null,
   "metadata": {},
   "outputs": [],
   "source": [
    "# Correcto:\n",
    "x = 42\n",
    "if (x > 0):\n",
    "    y = 99"
   ]
  }
 ]
}