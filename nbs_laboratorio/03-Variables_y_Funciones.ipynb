{
 "nbformat": 4,
 "nbformat_minor": 2,
 "metadata": {
  "language_info": {
   "name": "python",
   "codemirror_mode": {
    "name": "ipython",
    "version": 3
   },
   "version": "3.7.5-final"
  },
  "orig_nbformat": 2,
  "file_extension": ".py",
  "mimetype": "text/x-python",
  "name": "python",
  "npconvert_exporter": "python",
  "pygments_lexer": "ipython3",
  "version": 3,
  "kernelspec": {
   "name": "python3",
   "display_name": "Python 3"
  }
 },
 "cells": [
  {
   "cell_type": "markdown",
   "execution_count": null,
   "metadata": {},
   "outputs": [],
   "source": [
    "<a href=\"https://colab.research.google.com/github/jumafernandez/IntroProg_UNLu/blob/master/nbs_laboratorio/02_Variables_y_Funciones.ipynb\"\n",
    "   target=\"_parent\" style=\"float: left\">\n",
    "<img src=\"https://colab.research.google.com/assets/colab-badge.svg\" alt=\"Open In Colab\"/>\n",
    "</a>\n",
    "\n",
    "# Variables y Funciones\n",
    "---\n",
    "\n"
   ]
  },
  {
   "cell_type": "markdown",
   "execution_count": null,
   "metadata": {},
   "outputs": [],
   "source": [
    "## Variables\n",
    "\n",
    "**Una variable es un valor nombrado que referencia o guarda información.**"
   ]
  },
  {
   "cell_type": "code",
   "execution_count": null,
   "metadata": {},
   "outputs": [],
   "source": [
    "# Colocamos un valor en una variable usando el = \n",
    "x = 5\n",
    "\n",
    "print(x)        # imprime 5\n",
    "print(x*2)      # multiplica x por 2, imprime 10"
   ]
  },
  {
   "cell_type": "markdown",
   "execution_count": null,
   "metadata": {},
   "outputs": [],
   "source": [
    "**A diferencia de lo visto en Matemática, las variables pueden tener valores de diferentes tipos.**"
   ]
  },
  {
   "cell_type": "code",
   "execution_count": null,
   "metadata": {},
   "outputs": [],
   "source": [
    "y = 10\n",
    "print(y - 2)\n",
    "\n",
    "y = True\n",
    "print(y)"
   ]
  },
  {
   "cell_type": "markdown",
   "execution_count": null,
   "metadata": {},
   "outputs": [],
   "source": [
    "**Las variables pueden tener cualquier nombre pero deben comenzar con una letra y no contener caracteres especiales.**"
   ]
  },
  {
   "cell_type": "code",
   "execution_count": null,
   "metadata": {},
   "outputs": [],
   "source": [
    "numeros_de_conejos = 40\n",
    "curso_habilitado = True\n",
    "99problemas = 0         # Explota porque comienza con un número"
   ]
  },
  {
   "cell_type": "markdown",
   "execution_count": null,
   "metadata": {},
   "outputs": [],
   "source": [
    "**Las variables pueden ser actualizadas utilizando operaciones de asignación.**\n"
   ]
  },
  {
   "cell_type": "code",
   "execution_count": null,
   "metadata": {},
   "outputs": [],
   "source": [
    "x = 5\n",
    "x += 2      # Igual que x = x + 2\n",
    "print(x)    # Debería ser 7\n",
    "\n",
    "# Podemos utilizar cualquier operación aritmética.\n",
    "\n",
    "y = 350\n",
    "y //= 10\n",
    "print(y)        # Debería ser 35"
   ]
  },
  {
   "cell_type": "markdown",
   "execution_count": null,
   "metadata": {},
   "outputs": [],
   "source": [
    "## Declaraciones y Expresiones \n",
    "**Una expresión es un valor o una operación que retorna un valor.**"
   ]
  },
  {
   "cell_type": "code",
   "execution_count": null,
   "metadata": {},
   "outputs": [],
   "source": [
    "# Ejemplos de expresiones.\n",
    "# Note que cuando es ejecutado ninguno de ellos es mostrado.\n",
    "\n",
    "4\n",
    "\"Hola Mundo\"\n",
    "7 + 2\n",
    "True or False\n",
    "(2 < 3) and (9 > 0)"
   ]
  },
  {
   "cell_type": "markdown",
   "execution_count": null,
   "metadata": {},
   "outputs": [],
   "source": [
    "**Una declaración es una línea de código que ejecuta una acción. Al contrario que las expresiones, las declaraciones no pueden ser usadas en operaciones.**"
   ]
  },
  {
   "cell_type": "code",
   "execution_count": null,
   "metadata": {},
   "outputs": [],
   "source": [
    "# Ejemplo de Declaraciones.\n",
    "\n",
    "print(4)\n",
    "x = True"
   ]
  },
  {
   "cell_type": "markdown",
   "execution_count": null,
   "metadata": {},
   "outputs": [],
   "source": [
    "## Funciones\n",
    "\n",
    "**Una función es un procedimiento (una secuencia de _declaraciones_) guardada bajo un nombre que puede ser usada una y otra vez llamandola por el mismo.**\n"
   ]
  },
  {
   "cell_type": "code",
   "execution_count": null,
   "metadata": {},
   "outputs": [],
   "source": [
    "# Una función está compuesta por dos partes: el encabezado y el cuerpo\n",
    "\n",
    "# El encabezado (también se lo llama firma) define el nombre y los parametros.\n",
    "# Un encabezado de una función es escrito como sigue:\n",
    "#\n",
    "#   def nombre_de_funcion(parametros):\n",
    "#\n",
    "# Los parametros son variables que serán provistas cuando la función es llamada.\n",
    "# El encabezado termina con dos puntos (:) para indicar que continua el cuerpo \n",
    "# de la función.\n",
    "#\n",
    "# El Cuerpo contiene las acciones (declaraciones [statements]) que ejecutará la función.\n",
    "# El cuerpo es escrito debajo del encabezado con indentación (En Español: sangrado)\n",
    "# Cuando las lineas dejan de tener la indentación la función termina.\n",
    "#\n",
    "# Las funciones usualmente contiene un declaración return al final.\n",
    "# Esto proveerá el resultado cuando la función sea llamada.\n",
    "\n",
    "# Ejemplo:\n",
    "\n",
    "def duplica(x):\n",
    "    print(\"Soy la función duplicadora!\")\n",
    "    return 2 * x\n",
    "\n",
    "# Para llamar a una función usamos el nombre de la función\n",
    "# seguido por los parentesis con los valores que queremos usar (argumentos).\n",
    "\n",
    "print(duplica(2))       # Imprimirá 4\n",
    "print(duplica(5))       # Imprimirá 10\n",
    "print(duplica(1) + 3)   # Imprimirá 5"
   ]
  },
  {
   "cell_type": "markdown",
   "execution_count": null,
   "metadata": {},
   "outputs": [],
   "source": [
    "**Las funciones pueden tener los parámetros que necesitemos o ninguno.**\n"
   ]
  },
  {
   "cell_type": "code",
   "execution_count": null,
   "metadata": {},
   "outputs": [],
   "source": [
    "def f(x, y, z):\n",
    "    return x + y + z\n",
    "\n",
    "print(f(1, 3, 2)) # retorna 6\n",
    "\n",
    "def g():\n",
    "    return 42\n",
    "\n",
    "print(g()) # retorna 42\n",
    "\n",
    "# Nota - el número de argumentos provistos debe coincidir con el número de parámetros!\n",
    "print(g(2))         # No funciona.\n",
    "print(f(1, 2))      # Tampoco funcionará."
   ]
  },
  {
   "cell_type": "markdown",
   "execution_count": null,
   "metadata": {},
   "outputs": [],
   "source": [
    "## Funciones Incorporadas (builtins)\n"
   ]
  },
  {
   "cell_type": "code",
   "execution_count": null,
   "metadata": {},
   "outputs": [],
   "source": [
    "# Algunas funciones ya son provistas por el interprete Python\n",
    "\n",
    "print(\"Funciones para conversión de Tipo:\")\n",
    "print(bool(0))   # convierte a boolean (True or False)\n",
    "print(float(42)) # convierte a real\n",
    "print(int(2.8))  # convierte a entero (int)\n",
    "\n",
    "print(\"Y algunas funciones matemáticas basicas:\")\n",
    "print(abs(-5))   # valor absoluto\n",
    "print(max(2,3))  # retorna el máximo valor\n",
    "print(min(2,3))  # retorna el mínimo valor\n",
    "print(pow(2,3))  # eleva a potencia dada (pow(x,y) == x**y)\n",
    "print(round(2.354, 1)) # redondea con el número de digitos"
   ]
  },
  {
   "cell_type": "markdown",
   "execution_count": null,
   "metadata": {},
   "outputs": [],
   "source": [
    "## Funciones en otros módulos\n",
    "\n",
    "**Python tiene muchas funciones ya implementadas, pero no disponibles inmediatamente.**\n",
    "\n",
    "**Para usar estas funciones, debes importar un módulo.**\n",
    "\n",
    "**Podés encontrar estos módulos leyendo la [documentación online de Python](https://docs.python.org/3/).**\n",
    "\n"
   ]
  },
  {
   "cell_type": "markdown",
   "execution_count": null,
   "metadata": {},
   "outputs": [],
   "source": [
    "**Llamando a una función sin importar el módulo**"
   ]
  },
  {
   "cell_type": "code",
   "execution_count": null,
   "metadata": {},
   "outputs": [],
   "source": [
    "print(math.factorial(20))  # No importamos el módulo math previamente\n",
    "\n",
    "# Python output:\n",
    "#   NameError: name 'math' is not defined"
   ]
  },
  {
   "cell_type": "markdown",
   "execution_count": null,
   "metadata": {},
   "outputs": [],
   "source": [
    "**Llamando a la función importando el módulo**"
   ]
  },
  {
   "cell_type": "code",
   "execution_count": null,
   "metadata": {},
   "outputs": [],
   "source": [
    "import math\n",
    "print(math.factorial(20))  # mucho mejor...\n",
    "\n",
    "# Notar que el nombre del módulo es incluido antes que el nombre de la función separado por punto.\n"
   ]
  },
  {
   "cell_type": "markdown",
   "execution_count": null,
   "metadata": {},
   "outputs": [],
   "source": [
    "## Alcance de las variables (scope)\n",
    "\n",
    "**Las variables existene en un alcance especifico basado en donde ellas fueron definidas.**\n",
    "\n",
    "**Esto significa que no son visibles o no pueden ser usadas por fuera de ese alcance en otras partes del código.**"
   ]
  },
  {
   "cell_type": "code",
   "execution_count": null,
   "metadata": {},
   "outputs": [],
   "source": [
    "\n",
    "def f(x_scope_test):\n",
    "    print(\"x_scope_test:\", x_scope_test)\n",
    "    y_scope_test = 5\n",
    "    print(\"y_scope_test:\", y_scope_test)\n",
    "    return x_scope_test + y_scope_test\n",
    "\n",
    "print(f(4))\n",
    "print(x_scope_test) # No va a funcionar!\n",
    "print(y_scope_test) # tampoco funciona!"
   ]
  },
  {
   "cell_type": "markdown",
   "execution_count": null,
   "metadata": {},
   "outputs": [],
   "source": [
    "**Las variables en funciones tienen un alcance local.**\n",
    "\n",
    "**Solo existen dentro de la función y no tienen relación con las variables del mismo nombre en diferentes funciones.**"
   ]
  },
  {
   "cell_type": "code",
   "execution_count": null,
   "metadata": {},
   "outputs": [],
   "source": [
    "def f(x):\n",
    "    print(\"In f, x =\", x)\n",
    "    x += 5\n",
    "    return x\n",
    "\n",
    "def g(x):\n",
    "    y = f(x*2)\n",
    "    print(\"In g, x =\", x)\n",
    "    z = f(x*3)\n",
    "    print(\"In g, x =\", x)\n",
    "    return y + z\n",
    "\n",
    "print(g(2))\n",
    "\n",
    "# Otro ejemplo\n",
    "\n",
    "def f(x):\n",
    "    print(\"In f, x =\", x)\n",
    "    x += 7\n",
    "    return round(x / 3)\n",
    "\n",
    "def g(x):\n",
    "    x *= 10\n",
    "    return 2 * f(x)\n",
    "\n",
    "def h(x):\n",
    "    x += 3\n",
    "    return f(x+4) + g(x)\n",
    "\n",
    "print(h(f(1)))"
   ]
  },
  {
   "cell_type": "markdown",
   "execution_count": null,
   "metadata": {},
   "outputs": [],
   "source": [
    "**Cuando definimos variables fuera de las funciones, estas tienen un alcance global (global scope) y pueden ser usadas en cualquier lado.**\n"
   ]
  },
  {
   "cell_type": "code",
   "execution_count": null,
   "metadata": {},
   "outputs": [],
   "source": [
    "# En general, deberían evitar usar variables globales.\n",
    "# Al usarlas nuestro código pierde calidad y estilo.\n",
    "# Aún así, se debe saber como funcionan, ya que se usaran en algún momento.\n",
    "\n",
    "g = 100\n",
    "\n",
    "def f(x):\n",
    "    return x + g\n",
    "\n",
    "print(f(5)) # 105\n",
    "print(f(6)) # 106\n",
    "print(g)    # 100\n",
    "\n",
    "# Otro ejemplo\n",
    "\n",
    "def f(x):\n",
    "    # Si modificamos la variable global debemos declararla como global.\n",
    "    # Sino, Python asumirá que es una variable local.\n",
    "    global g\n",
    "    g += 1\n",
    "    return x + g\n",
    "\n",
    "print(f(5)) # 106\n",
    "print(f(6)) # 108\n",
    "print(g)    # 102"
   ]
  },
  {
   "cell_type": "markdown",
   "execution_count": null,
   "metadata": {},
   "outputs": [],
   "source": [
    "## Retornando Valores\n",
    "\n",
    "**Ejemplo básico**\n"
   ]
  },
  {
   "cell_type": "code",
   "execution_count": null,
   "metadata": {},
   "outputs": [],
   "source": [
    "def esPositivo(x):\n",
    "    return (x > 0)\n",
    "\n",
    "print(esPositivo(5))  # True\n",
    "print(esPositivo(-5)) # False\n",
    "print(esPositivo(0))  # False"
   ]
  },
  {
   "cell_type": "markdown",
   "execution_count": null,
   "metadata": {},
   "outputs": [],
   "source": [
    "**La función terminará al encontrar un _return_**"
   ]
  },
  {
   "cell_type": "code",
   "execution_count": null,
   "metadata": {},
   "outputs": [],
   "source": [
    "def esPositivo(x):\n",
    "    print(\"Hola!\")    # Imprime \"Hola\"\n",
    "    return (x > 0)\n",
    "    print(\"Chau!\")    # No imprimirá nada, nunca se ejecutará (\"código muerto\"/\"dead code\")\n",
    "\n",
    "print(esPositivo(5))  # Imprime \"Hola\", luego True"
   ]
  },
  {
   "cell_type": "markdown",
   "execution_count": null,
   "metadata": {},
   "outputs": [],
   "source": [
    "** Si no definimos un _return_ la función devuelve _None_**"
   ]
  },
  {
   "cell_type": "code",
   "execution_count": null,
   "metadata": {},
   "outputs": [],
   "source": [
    "def f(x):\n",
    "    x + 42\n",
    "\n",
    "print(f(5)) # None"
   ]
  },
  {
   "cell_type": "markdown",
   "execution_count": null,
   "metadata": {},
   "outputs": [],
   "source": [
    "**Otro ejemplo**"
   ]
  },
  {
   "cell_type": "code",
   "execution_count": null,
   "metadata": {},
   "outputs": [],
   "source": [
    "def f(x):\n",
    "    result = x + 42\n",
    "\n",
    "print(f(5)) # None"
   ]
  },
  {
   "cell_type": "markdown",
   "execution_count": null,
   "metadata": {},
   "outputs": [],
   "source": [
    "## Imprimir vs. Retornar\n",
    "\n",
    "**Un error común es confundir _print_ y _return_ o imprimir y retornar**\n"
   ]
  },
  {
   "cell_type": "code",
   "execution_count": null,
   "metadata": {},
   "outputs": [],
   "source": [
    "def cubo(x):\n",
    "    print(x**3)  # Aquí está el error!\n",
    "\n",
    "cubo(2)          # parece que funciona!\n",
    "print(cubo(3))   # Imprime None, raro, no?\n",
    "print(2*cubo(4)) # Error!"
   ]
  },
  {
   "cell_type": "markdown",
   "execution_count": null,
   "metadata": {},
   "outputs": [],
   "source": [
    "**Una vez más**"
   ]
  },
  {
   "cell_type": "code",
   "execution_count": null,
   "metadata": {},
   "outputs": [],
   "source": [
    "def cubo(x):\n",
    "    return (x**3)   # Ahora está mejor!\n",
    "\n",
    "cubo(2)             # parece que es ignorado, por qué?\n",
    "print(cubo(3))      # Funciona!\n",
    "print(2*cubo(4))    # Funciona!"
   ]
  },
  {
   "cell_type": "markdown",
   "execution_count": null,
   "metadata": {},
   "outputs": [],
   "source": [
    "## Composición de funciones"
   ]
  },
  {
   "cell_type": "code",
   "execution_count": null,
   "metadata": {},
   "outputs": [],
   "source": [
    "def f(w):\n",
    "    return 10*w\n",
    "\n",
    "def g(x, y):\n",
    "    return f(3*x) + y\n",
    "\n",
    "def h(z):\n",
    "    return f(g(z, f(z+1)))\n",
    "\n",
    "print(h(1))"
   ]
  },
  {
   "cell_type": "markdown",
   "execution_count": null,
   "metadata": {},
   "outputs": [],
   "source": [
    "## Funciones Auxiliares (helpers)"
   ]
  },
  {
   "cell_type": "code",
   "execution_count": null,
   "metadata": {},
   "outputs": [],
   "source": [
    "# Regularmente escribimos funciones para resolver problemas.\n",
    "# Podemos también escribir funciones para guardar una acción que será usada muchas veces.\n",
    "# Esas funciones son llamadas \"helpers\" o funciones auxiliares.\n",
    "\n",
    "def ultimo_digito(n):\n",
    "    return n%10\n",
    "\n",
    "def max_ultimo_digito(x, y):\n",
    "    return max(ultimo_digito(x), ultimo_digito(y))\n",
    "\n",
    "print(max_ultimo_digito(134, 672)) # 4\n",
    "print(max_ultimo_digito(132, 674)) # sigue siendo 4"
   ]
  },
  {
   "cell_type": "markdown",
   "execution_count": null,
   "metadata": {},
   "outputs": [],
   "source": [
    "## Funciones recomendadas"
   ]
  },
  {
   "cell_type": "code",
   "execution_count": null,
   "metadata": {},
   "outputs": [],
   "source": [
    "# Hay algunas funciones en módulo que definitivamente querrán usar\n",
    "\n",
    "# PRIMERO: la función builtin *round* tiene un comportamiento confuso cuando redondea 0.5\n",
    "# Usar nuestra función redondearMitadParaArriba para arreglar esto.\n",
    "\n",
    "def redondearMitadParaArriba(d):\n",
    "    # Round to nearest with ties going away from zero.\n",
    "    # You do not need to understand how this function works.\n",
    "    import decimal\n",
    "    rounding = decimal.ROUND_HALF_UP\n",
    "    return int(decimal.Decimal(d).to_integral_value(rounding=rounding))\n",
    "\n",
    "print(round(0.5)) # devuelve 0!\n",
    "print(round(1.5)) # ... y esto devuelve 2! que confuso!\n",
    "print(redondearMitadParaArriba(0.5)) # Ahora nuestra función siempre redondea 0.5 hacia arriba.\n",
    "print(redondearMitadParaArriba(1.5)) # Sigue redondeando para arriba.\n",
    "\n",
    "# SEGUNDO: cuando comparamos reales, == no funciona del todo bien.\n",
    "# Usaremos almostEqual para comparar reales\n",
    "\n",
    "print(0.1 + 0.1 == 0.2) # True, pero...\n",
    "d1 = 0.1 + 0.1 + 0.1\n",
    "d2 = 0.3\n",
    "print(d1 == d2) # False!\n",
    "print(d1)       # Imprime 0.30000000000000004 (ups!)\n",
    "print(d1 - d2)  # Imprime 5.55111512313e-17 (muy chico, pero no es cero!)\n",
    "# MORALEJA: nunca usar == con reales!\n",
    "\n",
    "# Python incluye una función builtin math.isclose(), pero esa función\n",
    "# tiene un comportamiento confuso cuando comparamos valores cercanos a 0. \n",
    "# En su lugar, haremos nuestra propia función de isclose:\n",
    "\n",
    "def casiIgual(x, y):\n",
    "    return abs(x - y) < 10**-9\n",
    "\n",
    "# Esto funcionará correctamente!\n",
    "print(casiIgual(0, 0.0000000000001))\n",
    "print(casiIgual(d1, d2))"
   ]
  },
  {
   "cell_type": "markdown",
   "execution_count": null,
   "metadata": {},
   "outputs": [],
   "source": [
    "## Funciones Test\n",
    "\n",
    "**Una función rota para probar**\n"
   ]
  },
  {
   "cell_type": "code",
   "execution_count": null,
   "metadata": {},
   "outputs": [],
   "source": [
    "def ultimoDigito(n):\n",
    "    return n%10\n",
    "\n",
    "def testUltimoDigito():\n",
    "    print(\"Testing ultimoDigito()...\", end=\"\")\n",
    "    assert(ultimoDigito(5) == 5)\n",
    "    assert(ultimoDigito(123) == 3)\n",
    "    assert(ultimoDigito(100) == 0)\n",
    "    assert(ultimoDigito(999) == 9)\n",
    "    print(\"Passed!\")\n",
    "\n",
    "testUltimoDigito() # Passed!  Pero por qué está mal esto?"
   ]
  },
  {
   "cell_type": "markdown",
   "execution_count": null,
   "metadata": {},
   "outputs": [],
   "source": [
    "**Una versión mejorada**"
   ]
  },
  {
   "cell_type": "code",
   "execution_count": null,
   "metadata": {},
   "outputs": [],
   "source": [
    "def ultimoDigito(n):\n",
    "    return n%10\n",
    "\n",
    "def testUltimoDigito():\n",
    "    print(\"Testing ultimoDigito()...\", end=\"\")\n",
    "    assert(ultimoDigito(5) == 5)\n",
    "    assert(ultimoDigito(123) == 3)\n",
    "    assert(ultimoDigito(100) == 0)\n",
    "    assert(ultimoDigito(999) == 9)\n",
    "    assert(ultimoDigito(-123) == 3) # Agregamos este test\n",
    "    print(\"Passed!\")\n",
    "\n",
    "testUltimoDigito() # Crashed!  Entonces la función de Test funcionó!"
   ]
  },
  {
   "cell_type": "code",
   "execution_count": null,
   "metadata": {},
   "outputs": [],
   "source": []
  }
 ]
}