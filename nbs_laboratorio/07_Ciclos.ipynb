{
  "nbformat": 4,
  "nbformat_minor": 0,
  "metadata": {
    "colab": {
      "name": "Ciclos.ipynb",
      "provenance": []
    },
    "kernelspec": {
      "name": "python3",
      "display_name": "Python 3"
    },
    "language_info": {
      "name": "python"
    }
  },
  "cells": [
    {
      "cell_type": "markdown",
      "metadata": {
        "id": "OMgOxYgSiWl_"
      },
      "source": [
        "## Ciclo For"
      ]
    },
    {
      "cell_type": "code",
      "metadata": {
        "colab": {
          "base_uri": "https://localhost:8080/"
        },
        "id": "sxY3pFlwiW0v",
        "outputId": "03db1a23-541f-4139-ee09-9a74aec2fea6"
      },
      "source": [
        "def sumaDesdeMHastaN(m, n):\n",
        "    total = 0\n",
        "    #Nota el range(x,y) incluye x pero excluye y\n",
        "    for x in range(m, n+1):\n",
        "        total += x\n",
        "    return total\n",
        "\n",
        "print(sumaDesdeMHastaN(5, 10) == 5+6+7+8+9+10)"
      ],
      "execution_count": 1,
      "outputs": [
        {
          "output_type": "stream",
          "text": [
            "True\n"
          ],
          "name": "stdout"
        }
      ]
    },
    {
      "cell_type": "markdown",
      "metadata": {
        "id": "b2BnYHtgidPQ"
      },
      "source": [
        "Actualmente no necesitamos un ciclo"
      ]
    },
    {
      "cell_type": "code",
      "metadata": {
        "colab": {
          "base_uri": "https://localhost:8080/"
        },
        "id": "WkLBLT-GifQk",
        "outputId": "fda98050-e962-42d0-ab8a-75be5f459939"
      },
      "source": [
        "def sumaDesdeMHastaN(m, n):\n",
        "    return sum(range(m, n+1))\n",
        "\n",
        "print(sumaDesdeMHastaN(5, 10) == 5+6+7+8+9+10)\n",
        "\n",
        "#Y podemos hacerlo con una formula cerrada\n",
        "# que es la forma mas rapida de hacerlo\n",
        "#pero no nos ayuda a aprender ciclos\n",
        "\n",
        "\n",
        "def sumaToN(n):\n",
        "    # funcion de apoyo\n",
        "    return n*(n+1)//2\n",
        "\n",
        "def sumaDesdeMToN_conFormula(m, n):\n",
        "    return (sumaToN(n) - sumaToN(m-1))\n",
        "\n",
        "print(sumaDesdeMToN_conFormula(5, 10) == 5+6+7+8+9+10)"
      ],
      "execution_count": 2,
      "outputs": [
        {
          "output_type": "stream",
          "text": [
            "True\n",
            "True\n"
          ],
          "name": "stdout"
        }
      ]
    },
    {
      "cell_type": "markdown",
      "metadata": {
        "id": "bz0dHufcjJoF"
      },
      "source": [
        "Y si omitimos el primer parametro"
      ]
    },
    {
      "cell_type": "code",
      "metadata": {
        "colab": {
          "base_uri": "https://localhost:8080/"
        },
        "id": "DflpMjWbjOb9",
        "outputId": "8e2d8dc7-a003-460e-b5fd-2974c0385cba"
      },
      "source": [
        "def sumaHastaN(n):\n",
        "    total = 0\n",
        "    for x in range(n+1):\n",
        "        total += x\n",
        "    return total\n",
        "\n",
        "print(sumaHastaN(5) == 0+1+2+3+4+5)"
      ],
      "execution_count": 3,
      "outputs": [
        {
          "output_type": "stream",
          "text": [
            "True\n"
          ],
          "name": "stdout"
        }
      ]
    },
    {
      "cell_type": "markdown",
      "metadata": {
        "id": "KaNuTra5jPLV"
      },
      "source": [
        "Y si agregamos un tercer parametro"
      ]
    },
    {
      "cell_type": "code",
      "metadata": {
        "colab": {
          "base_uri": "https://localhost:8080/"
        },
        "id": "c3AsiVvGjTcf",
        "outputId": "58cf29dc-74a9-4057-c3e4-0b49a8cee8fe"
      },
      "source": [
        "def sumarCadakNumeroDesdeMHastaN(m, n, k):\n",
        "    total = 0\n",
        "    for x in range(m, n+1, k):\n",
        "        total += x\n",
        "    return total\n",
        "\n",
        "print(sumarCadakNumeroDesdeMHastaN(5, 20, 7) == (5 + 12 + 19))"
      ],
      "execution_count": 7,
      "outputs": [
        {
          "output_type": "stream",
          "text": [
            "True\n"
          ],
          "name": "stdout"
        }
      ]
    },
    {
      "cell_type": "markdown",
      "metadata": {
        "id": "-C8gT7yVjUZQ"
      },
      "source": [
        "Sumar solo los numeros impares desde m hasta n"
      ]
    },
    {
      "cell_type": "code",
      "metadata": {
        "colab": {
          "base_uri": "https://localhost:8080/"
        },
        "id": "HWnPFOF7jZMa",
        "outputId": "891bda90-f2d1-4ae7-9ce0-ec3ad0ff8283"
      },
      "source": [
        "def sumaDeImparedDesdeMHastaN(m, n):\n",
        "    total = 0\n",
        "    for x in range(m, n+1):\n",
        "        if (x % 2 == 1):\n",
        "            total += x\n",
        "    return total\n",
        "\n",
        "print(sumaDeImparedDesdeMHastaN(4, 10) == sumaDeImparedDesdeMHastaN(5,9) == (5+7+9))"
      ],
      "execution_count": 5,
      "outputs": [
        {
          "output_type": "stream",
          "text": [
            "True\n"
          ],
          "name": "stdout"
        }
      ]
    },
    {
      "cell_type": "markdown",
      "metadata": {
        "id": "FgEb5CGijxCT"
      },
      "source": [
        "Vamos de nuevo"
      ]
    },
    {
      "cell_type": "code",
      "metadata": {
        "id": "QzK906_Zj73j"
      },
      "source": [
        "def sumaDeImparedDesdeMHastaN(m, n):\n",
        "    if (m % 2 == 0):\n",
        "        # m is even, add 1 to start on an odd\n",
        "        # m es \n",
        "        m += 1\n",
        "    total = 0\n",
        "    for x in range(m, n+1, 2):\n",
        "        total += x\n",
        "    return total\n",
        "\n",
        "print(sumaDeImparedDesdeMHastaN(4, 10) == sumaDeImparedDesdeMHastaN(5,9) == (5+7+9))"
      ],
      "execution_count": null,
      "outputs": []
    },
    {
      "cell_type": "markdown",
      "metadata": {
        "id": "2tH16PbYj836"
      },
      "source": [
        "Y de nuevo"
      ]
    },
    {
      "cell_type": "code",
      "metadata": {
        "colab": {
          "base_uri": "https://localhost:8080/"
        },
        "id": "JS0-Fy6TkAMn",
        "outputId": "8ba59867-8436-4e20-9416-251ba0718dd0"
      },
      "source": [
        "# Vamos de nuevo con un range invertido\n",
        "\n",
        "def sumaDeImparedDesdeMHastaN(m, n):\n",
        "    if (n % 2 == 0):\n",
        "        #n es par , pero sustraemos uno para arranca en impar\n",
        "        n -= 1\n",
        "    total = 0\n",
        "    for x in range(n, m-1, -2):  # Cuidado aqui\n",
        "        total += x\n",
        "    return total\n",
        "\n",
        "print(sumaDeImparedDesdeMHastaN(4, 10) == sumaDeImparedDesdeMHastaN(5,9) == (5+7+9))"
      ],
      "execution_count": 6,
      "outputs": [
        {
          "output_type": "stream",
          "text": [
            "True\n"
          ],
          "name": "stdout"
        }
      ]
    },
    {
      "cell_type": "markdown",
      "metadata": {
        "id": "_kj_Z5svkU-B"
      },
      "source": [
        "Y"
      ]
    },
    {
      "cell_type": "markdown",
      "metadata": {
        "id": "Xz7MSYWgkVX8"
      },
      "source": [
        " de nuevo"
      ]
    },
    {
      "cell_type": "code",
      "metadata": {
        "colab": {
          "base_uri": "https://localhost:8080/"
        },
        "id": "w-SKAXFRkV7Z",
        "outputId": "5af6a995-1c3a-4792-9036-8e59b6c48f0b"
      },
      "source": [
        "def sumaDeImparedDesdeMHastaN(m, n):\n",
        "    if (m % 2 == 0): m += 1\n",
        "    return sum(range(m, n+1, 2))\n",
        "\n",
        "print(sumaDeImparedDesdeMHastaN(4, 10) == sumaDeImparedDesdeMHastaN(5,9) == (5+7+9))"
      ],
      "execution_count": 8,
      "outputs": [
        {
          "output_type": "stream",
          "text": [
            "True\n"
          ],
          "name": "stdout"
        }
      ]
    },
    {
      "cell_type": "markdown",
      "metadata": {
        "id": "PGZrrHb7kYCF"
      },
      "source": [
        "Y de nuevo"
      ]
    },
    {
      "cell_type": "code",
      "metadata": {
        "id": "1Dk_CgBakcHs"
      },
      "source": [
        "#Esta es la peor forma por lejos\n",
        "\n",
        "def sumaDeImparedDesdeMHastaN(m, n):\n",
        "    return sum(range(m + (1 - m%2), n+1, 2)) #Esto funcion pero es muy feo\n",
        "\n",
        "print(sumaDeImparedDesdeMHastaN(4, 10) == sumaDeImparedDesdeMHastaN(5,9) == (5+7+9))"
      ],
      "execution_count": null,
      "outputs": []
    },
    {
      "cell_type": "markdown",
      "metadata": {
        "id": "OKPOzR1QkkPx"
      },
      "source": [
        "## Andando ciclos"
      ]
    },
    {
      "cell_type": "code",
      "metadata": {
        "colab": {
          "base_uri": "https://localhost:8080/"
        },
        "id": "0X7L9S5ukmnh",
        "outputId": "3eeae1b0-03f7-4c02-eed9-1665b5771801"
      },
      "source": [
        "def ImpormirCoordenadas(xMax, yMax):\n",
        "    for x in range(xMax+1):\n",
        "        for y in range(yMax+1):\n",
        "            print(\"(\", x, \",\", y, \")  \", end=\"\")\n",
        "        print()\n",
        "\n",
        "printCoordinates(4, 5)"
      ],
      "execution_count": 10,
      "outputs": [
        {
          "output_type": "stream",
          "text": [
            "( 0 , 0 )  ( 0 , 1 )  ( 0 , 2 )  ( 0 , 3 )  ( 0 , 4 )  ( 0 , 5 )  \n",
            "( 1 , 0 )  ( 1 , 1 )  ( 1 , 2 )  ( 1 , 3 )  ( 1 , 4 )  ( 1 , 5 )  \n",
            "( 2 , 0 )  ( 2 , 1 )  ( 2 , 2 )  ( 2 , 3 )  ( 2 , 4 )  ( 2 , 5 )  \n",
            "( 3 , 0 )  ( 3 , 1 )  ( 3 , 2 )  ( 3 , 3 )  ( 3 , 4 )  ( 3 , 5 )  \n",
            "( 4 , 0 )  ( 4 , 1 )  ( 4 , 2 )  ( 4 , 3 )  ( 4 , 4 )  ( 4 , 5 )  \n"
          ],
          "name": "stdout"
        }
      ]
    },
    {
      "cell_type": "markdown",
      "metadata": {
        "id": "JoGW-s_IkrFU"
      },
      "source": [
        "Que tal algunos asteriscos"
      ]
    },
    {
      "cell_type": "code",
      "metadata": {
        "colab": {
          "base_uri": "https://localhost:8080/"
        },
        "id": "XJJaTsUgky8l",
        "outputId": "7e47998f-63a2-4188-db44-449fd0f6c0b7"
      },
      "source": [
        "def ImprimirRectangioloDeAsteriscos(n):\n",
        "    #Imprimir un rectangulo n x x de asteriscos\n",
        "    for row in range(n):\n",
        "        for col in range(n):\n",
        "            print(\"*\", end=\"\")\n",
        "        print()\n",
        "\n",
        "ImprimirRectangioloDeAsteriscos(5)"
      ],
      "execution_count": 11,
      "outputs": [
        {
          "output_type": "stream",
          "text": [
            "*****\n",
            "*****\n",
            "*****\n",
            "*****\n",
            "*****\n"
          ],
          "name": "stdout"
        }
      ]
    },
    {
      "cell_type": "markdown",
      "metadata": {
        "id": "FcEAU3Yzk1SL"
      },
      "source": [
        "Y de nuevo"
      ]
    },
    {
      "cell_type": "code",
      "metadata": {
        "id": "8QAS0YUhk3Lb"
      },
      "source": [
        "# ¿Que haria esto? tengan cuidad\n",
        "\n",
        "def ImprimirFormaMisterios(n):\n",
        "    for row in range(n):\n",
        "        print(row, end=\" \")\n",
        "        for col in range(row):\n",
        "            print(\"*\", end=\" \")\n",
        "        print()\n",
        "\n",
        "ImprimirFormaMisterios(5)"
      ],
      "execution_count": null,
      "outputs": []
    },
    {
      "cell_type": "markdown",
      "metadata": {
        "id": "b-eSv39ak7eQ"
      },
      "source": [
        "Ciclos WHILE"
      ]
    },
    {
      "cell_type": "code",
      "metadata": {
        "colab": {
          "base_uri": "https://localhost:8080/"
        },
        "id": "Hk1JfYhGk9hY",
        "outputId": "33dc4aa1-8855-4867-f81b-ff6755ebdb68"
      },
      "source": [
        "# Usar ciclos while cuando es un numero ndeterminado de ciclos\n",
        "def DigitoALaIzquierda(n):\n",
        "    n = abs(n)\n",
        "    while (n >= 10):\n",
        "        n = n//10\n",
        "    return n\n",
        "\n",
        "print(DigitoALaIzquierda(72658489290098) == 7)"
      ],
      "execution_count": 13,
      "outputs": [
        {
          "output_type": "stream",
          "text": [
            "True\n"
          ],
          "name": "stdout"
        }
      ]
    },
    {
      "cell_type": "markdown",
      "metadata": {
        "id": "lkJLENlYlWGd"
      },
      "source": [
        "Buscar el n-esimo numero con alguna propiedad"
      ]
    },
    {
      "cell_type": "code",
      "metadata": {
        "colab": {
          "base_uri": "https://localhost:8080/"
        },
        "id": "mBfmmnpYlJYa",
        "outputId": "711f3526-9de8-45ed-b0d7-c2486e7360c0"
      },
      "source": [
        "# Encuentra el n-esimo numero que es multiplo de 4 y 7\n",
        "def EsMultiploDe4o7(x):\n",
        "    return ((x % 4) == 0) or ((x % 7) == 0)\n",
        "\n",
        "def nesimoMultiplode4o7(n):\n",
        "    encontrados = 0\n",
        "    nEsimo = -1\n",
        "    while (encontrados <= n):\n",
        "        nEsimo += 1\n",
        "        if (EsMultiploDe4o7(nEsimo)):\n",
        "            encontrados += 1\n",
        "    return nEsimo\n",
        "\n",
        "print(\"Multiplos de 4 o 7: \", end=\"\")\n",
        "for n in range(15):\n",
        "    print(nesimoMultiplode4o7(n), end=\" \")\n"
      ],
      "execution_count": 19,
      "outputs": [
        {
          "output_type": "stream",
          "text": [
            "Multiplos de 4 o 7: 0 4 7 8 12 14 16 20 21 24 28 32 35 36 40 "
          ],
          "name": "stdout"
        }
      ]
    },
    {
      "cell_type": "markdown",
      "metadata": {
        "id": "6ELGSAeTkHWs"
      },
      "source": [
        "Mal Uso: While en un rango fijo"
      ]
    },
    {
      "cell_type": "code",
      "metadata": {
        "colab": {
          "base_uri": "https://localhost:8080/"
        },
        "id": "qXWOXICgls7_",
        "outputId": "6a5cb0d0-86c8-4823-ec27-fd71405f4b52"
      },
      "source": [
        "#Sumar numeros del 1 l 10\n",
        "#nota Esto funciona pero no deberias usar while aca\n",
        "# haga esto con For ahora que sabe como\n",
        "\n",
        "def sumaHastaN(n):\n",
        "    total = 0\n",
        "    contador = 1\n",
        "    while (contador <= n):\n",
        "        total += contador\n",
        "        contador += 1\n",
        "    return total\n",
        "\n",
        "print(sumaHastaN(5) == 1+2+3+4+5)"
      ],
      "execution_count": 20,
      "outputs": [
        {
          "output_type": "stream",
          "text": [
            "True\n"
          ],
          "name": "stdout"
        }
      ]
    },
    {
      "cell_type": "markdown",
      "metadata": {
        "id": "hdbmA7RJms5L"
      },
      "source": [
        "De nuevo pero con un Bug"
      ]
    },
    {
      "cell_type": "code",
      "metadata": {
        "colab": {
          "base_uri": "https://localhost:8080/"
        },
        "id": "fE3oYg2ImtED",
        "outputId": "6d54d366-7269-4ee1-e370-e6807a53e810"
      },
      "source": [
        "def bugSumaHastaN(n):\n",
        "    # nota: esto no es solo un while en lugar de un for,\n",
        "    # pero tambien tiene un bug.\n",
        "    total = 0\n",
        "    contador = 0\n",
        "    while (contador <= n):\n",
        "        contador += 1\n",
        "        total += contador\n",
        "    return total\n",
        "\n",
        "print(bugSumaHastaN(5) == 1+2+3+4+5)"
      ],
      "execution_count": 23,
      "outputs": [
        {
          "output_type": "stream",
          "text": [
            "False\n"
          ],
          "name": "stdout"
        }
      ]
    },
    {
      "cell_type": "markdown",
      "metadata": {
        "id": "Q4-yB62dm011"
      },
      "source": [
        "De nuevo con un ciclo For"
      ]
    },
    {
      "cell_type": "code",
      "metadata": {
        "colab": {
          "base_uri": "https://localhost:8080/"
        },
        "id": "_xQxGi7vm4up",
        "outputId": "a2e44fdd-87a7-43a4-f5b0-0a24685275e6"
      },
      "source": [
        "# Un ciclo for es la forma correcta de hacerlo cuando el rango es fijo\n",
        "def sumaHastaN(n):\n",
        "    total = 0\n",
        "    for contador in range(n+1):\n",
        "        total += contador\n",
        "    return total\n",
        "\n",
        "print(sumaHastaN(5) == 1+2+3+4+5)"
      ],
      "execution_count": 24,
      "outputs": [
        {
          "output_type": "stream",
          "text": [
            "True\n"
          ],
          "name": "stdout"
        }
      ]
    },
    {
      "cell_type": "markdown",
      "metadata": {
        "id": "T5KNpzmbnA5r"
      },
      "source": [
        "Es primo"
      ]
    },
    {
      "cell_type": "code",
      "metadata": {
        "colab": {
          "base_uri": "https://localhost:8080/"
        },
        "id": "2ARo1EvrnCHb",
        "outputId": "ea671744-79b8-449b-a630-571243c67f8c"
      },
      "source": [
        "# Hay formas mejores ymas rapidas, pero arrancamos con una clara y simple\n",
        "def esPrimo(n):\n",
        "    resultado = True\n",
        "    if (n < 2):\n",
        "        resultado = False\n",
        "    for factor in range(2,n):\n",
        "        if (n % factor == 0):\n",
        "            resultado = False\n",
        "    return resultado\n",
        "\n",
        "# And take it for a spin\n",
        "for n in range(100):\n",
        "    if esPrimo(n):\n",
        "        print(n, end=\" \")\n",
        "print()"
      ],
      "execution_count": 26,
      "outputs": [
        {
          "output_type": "stream",
          "text": [
            "2 3 5 7 11 13 17 19 23 29 31 37 41 43 47 53 59 61 67 71 73 79 83 89 97 \n"
          ],
          "name": "stdout"
        }
      ]
    },
    {
      "cell_type": "markdown",
      "metadata": {
        "id": "ZxE3EI2unC2R"
      },
      "source": [
        "Rapidito"
      ]
    },
    {
      "cell_type": "code",
      "metadata": {
        "colab": {
          "base_uri": "https://localhost:8080/"
        },
        "id": "38KbdHhsnI6S",
        "outputId": "772a0c93-ccf7-4e58-fb5b-8f5eba4e126e"
      },
      "source": [
        "# No es la forma mas rapida pero es una mejor\n",
        "def fasterIsPrime(n):\n",
        "    resultado = True\n",
        "    if (n < 2):\n",
        "      resultado =  False\n",
        "    if (n == 2):\n",
        "        resultado = True\n",
        "    if (n % 2 == 0 and not n ==2):\n",
        "        resultado = False\n",
        "    maxFactor = round(n**0.5)\n",
        "    for factor in range(3,maxFactor+1,2):\n",
        "        if (n % factor == 0):\n",
        "            resultado = False\n",
        "    return resultado\n",
        "\n",
        "for n in range(100):\n",
        "    if fasterIsPrime(n):\n",
        "        print(n, end=\" \")\n",
        "print()"
      ],
      "execution_count": 33,
      "outputs": [
        {
          "output_type": "stream",
          "text": [
            "2 3 5 7 11 13 17 19 23 29 31 37 41 43 47 53 59 61 67 71 73 79 83 89 97 \n"
          ],
          "name": "stdout"
        }
      ]
    },
    {
      "cell_type": "markdown",
      "metadata": {
        "id": "dfL6yw_-nPOL"
      },
      "source": [
        "Verifica que el IsPrime sea rapido"
      ]
    },
    {
      "cell_type": "code",
      "metadata": {
        "colab": {
          "base_uri": "https://localhost:8080/"
        },
        "id": "GfrtVdsinYuT",
        "outputId": "ca46057c-d4fa-40b9-f16c-0d2bc91b90a0"
      },
      "source": [
        "def esPrimo(n):\n",
        "    resultado = True\n",
        "    if (n < 2):\n",
        "        resultado = False\n",
        "    for factor in range(2,n):\n",
        "        if (n % factor == 0):\n",
        "            resultado =False\n",
        "    return resultado\n",
        "\n",
        "def rapidoEsPrimo(n):\n",
        "    resultado = True\n",
        "    if (n < 2):\n",
        "        resultado =False\n",
        "    if (n == 2):\n",
        "        resultado =True\n",
        "    if (n % 2 == 0 and not n ==2):\n",
        "        resultado = False\n",
        "    maxFactor = round(n**0.5)\n",
        "    for factor in range(3,maxFactor+1,2):\n",
        "        if (n % factor == 0):\n",
        "            resultado = False\n",
        "    return resultado\n",
        "\n",
        "# Comprobamos que sean lo mismo\n",
        "for n in range(100):\n",
        "    assert(esPrimo(n) == rapidoEsPrimo(n))\n",
        "print(\"Parecen funcionar igual!\")\n",
        "\n",
        "# Ahora verificamos si la rapidez mejoro\n",
        "import time\n",
        "primoGrande = 499 # Try 1010809, or 10101023, or 102030407\n",
        "print(\"Tiempo de esPrimo(\",primoGrande,\")\", end=\" \")\n",
        "time0 = time.time()\n",
        "print(\", retorno \", esPrimo(primoGrande), end=\" \")\n",
        "time1 = time.time()\n",
        "print(\", tiempo = \",(time1-time0)*1000,\"ms\")\n",
        "\n",
        "print(\"Tiempo rapidoEsPrimo(\",primoGrande,\")\", end=\" \")\n",
        "time0 = time.time()\n",
        "print(\", Retorno \", rapidoEsPrimo(primoGrande), end=\" \")\n",
        "time1 = time.time()\n",
        "print(\", tiempo = \",(time1-time0)*1000,\"ms\")"
      ],
      "execution_count": 35,
      "outputs": [
        {
          "output_type": "stream",
          "text": [
            "Parecen funcionar igual!\n",
            "Tiempo de esPrimo( 499 ) , retorno  True , tiempo =  0.6837844848632812 ms\n",
            "Tiempo rapidoEsPrimo( 499 ) , Retorno  True , tiempo =  0.13017654418945312 ms\n"
          ],
          "name": "stdout"
        }
      ]
    },
    {
      "cell_type": "markdown",
      "metadata": {
        "id": "mH8Jcwx9neAM"
      },
      "source": [
        "N-esimo Primo"
      ]
    },
    {
      "cell_type": "code",
      "metadata": {
        "colab": {
          "base_uri": "https://localhost:8080/"
        },
        "id": "xIojdY2-nft3",
        "outputId": "ef844a8f-c3aa-40a4-da99-db1604c1fdfb"
      },
      "source": [
        "def esPrimo(n):\n",
        "    resultado = True\n",
        "    if (n < 2):\n",
        "        resultado =False\n",
        "    if (n == 2):\n",
        "        resultado =True\n",
        "    if (n % 2 == 0 and not n ==2):\n",
        "        resultado = False\n",
        "    maxFactor = round(n**0.5)\n",
        "    for factor in range(3,maxFactor+1,2):\n",
        "        if (n % factor == 0):\n",
        "            resultado = False\n",
        "    return resultado\n",
        "\n",
        "#adaptamos el nesimo que usamos para los multiplos de 4 o 7\n",
        "\n",
        "def nesimoPrimo(n):\n",
        "    encontrado = 0\n",
        "    resultdo = 0\n",
        "    while (encontrado <= n):\n",
        "        resultdo += 1\n",
        "        if (esPrimo(resultdo)):\n",
        "            encontrado += 1\n",
        "    return resultdo\n",
        "\n",
        "# Y veamos la lista de primos\n",
        "for n in range(10):\n",
        "    print(n, nesimoPrimo(n))\n",
        "print(\"Hecho!\")"
      ],
      "execution_count": 36,
      "outputs": [
        {
          "output_type": "stream",
          "text": [
            "0 2\n",
            "1 3\n",
            "2 5\n",
            "3 7\n",
            "4 11\n",
            "5 13\n",
            "6 17\n",
            "7 19\n",
            "8 23\n",
            "9 29\n",
            "Hecho!\n"
          ],
          "name": "stdout"
        }
      ]
    }
  ]
}