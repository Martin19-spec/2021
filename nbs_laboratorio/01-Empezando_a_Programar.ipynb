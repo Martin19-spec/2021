{
 "cells": [
  {
   "cell_type": "markdown",
   "execution_count": null,
   "metadata": {
    "colab_type": "text",
    "id": "DtqRz2JHB0XR"
   },
   "outputs": [],
   "source": [
    "<a href=\"https://colab.research.google.com/github/jumafernandez/IntroProg_UNLu/blob/master/nbs_laboratorio/00_Empezando_a_Programar.ipynb\"\n",
    "   target=\"_parent\" style=\"float: left\">\n",
    "<img src=\"https://colab.research.google.com/assets/colab-badge.svg\" alt=\"Open In Colab\"/>\n",
    "</a>\n",
    "\n",
    "# Empezando a Programar\n",
    "---\n",
    "\n",
    "En este curso vamos a aprender los fundamentos básicos de la Programación, utilizando Python como lenguaje. \n",
    "\n",
    "**Python** es un lenguaje de programación interpretado cuya filosofía hace hincapié en la legibilidad de su código.\n",
    "\n",
    "Se trata de un lenguaje de programación multiparadigma, ya que soporta orientación a objetos, programación imperativa y, en menor medida, programación funcional.\n",
    "\n",
    "Es un lenguaje interpretado, dinámico y multiplataforma. (Fuente: [Wikipedia](https://es.wikipedia.org/wiki/Python))\n"
   ]
  },
  {
   "cell_type": "markdown",
   "execution_count": null,
   "metadata": {
    "colab_type": "text",
    "id": "p7tYuHrPRlXs"
   },
   "outputs": [],
   "source": [
    "### Ejecutando Python\n",
    "Para ejecutar Python, previamente debemos:\n",
    "* Instalar la versión 3.7 de Python, descargándola de [python.org](https://python.org),\n",
    "* Instalar [Visual Studio Code](https://code.visualstudio.com/download) o el Editor de código que prefieras (PyCharm, Geany,Vi, etc)\n",
    "* Iniciar tu Editor de Código,\n",
    "* Editar tu archivo de texto y guardarlo con la extensión _.py_,\n",
    "* Ejecutar tu código.\n"
   ]
  },
  {
   "cell_type": "markdown",
   "execution_count": null,
   "metadata": {
    "colab_type": "text",
    "id": "XWvfYVDGGBrd"
   },
   "outputs": [],
   "source": [
    "<a id='hello-world'></a>\n",
    "### \"Hola Mundo\" en Python\n",
    "Ahora, escribiremos nuestro primer programa en Python, un script sencillo que muestra en pantalla el texto \"Hola Mundo\":"
   ]
  },
  {
   "cell_type": "code",
   "execution_count": null,
   "metadata": {
    "colab": {
     "base_uri": "https://localhost:8080/",
     "height": 34
    },
    "colab_type": "code",
    "id": "rDBAbBnH_3Sg",
    "outputId": "630785f0-11d3-4910-e44e-7fa24f0b1857"
   },
   "outputs": [],
   "source": [
    "print(\"Hola Mundo!\")"
   ]
  },
  {
   "cell_type": "markdown",
   "execution_count": null,
   "metadata": {
    "colab_type": "text",
    "id": "zsMKjKiCG5n0"
   },
   "outputs": [],
   "source": [
    "### Comentarios en el código\n",
    "Podemos hacer comentarios en nuestro código. Estos comentarios no son interpretados por el lenguaje pero nos permiten recordar que hacemos en cada porción de código. Utilizar comentarios es una buena práctica de programación."
   ]
  },
  {
   "cell_type": "code",
   "execution_count": null,
   "metadata": {
    "colab": {
     "base_uri": "https://localhost:8080/",
     "height": 34
    },
    "colab_type": "code",
    "id": "Fp61JELMHmRa",
    "outputId": "f92321ce-f525-4538-ed9d-9fc320f2c7ae"
   },
   "outputs": [],
   "source": [
    "print(\"Hola Mundo!\") # Esto es un comentario\n",
    "# print(\"Qué hace esta línea de código?\")"
   ]
  },
  {
   "cell_type": "markdown",
   "execution_count": null,
   "metadata": {
    "colab_type": "text",
    "id": "3mYfjlAFJQs0"
   },
   "outputs": [],
   "source": [
    "### Salidas básicas en Pantalla\n",
    "Como vimos en el programita anterior, podemos mostrar textos, números y resultados de operaciones, entre otras cosas, por pantalla. La instrucción básica que permtie esto es _print_.\n",
    "\n",
    "__Uso básico de _print_:__"
   ]
  },
  {
   "cell_type": "code",
   "execution_count": null,
   "metadata": {
    "colab": {
     "base_uri": "https://localhost:8080/",
     "height": 51
    },
    "colab_type": "code",
    "id": "F_6ezzzNJQD6",
    "outputId": "3e841dd9-a594-49ff-ee52-df2eb2aaf2fd"
   },
   "outputs": [],
   "source": [
    "print(\"Carpe\")\n",
    "print(\"diem\")"
   ]
  },
  {
   "cell_type": "markdown",
   "execution_count": null,
   "metadata": {
    "colab_type": "text",
    "id": "0udC-1NMKCKK"
   },
   "outputs": [],
   "source": [
    "__Mostrar en la misma línea:__"
   ]
  },
  {
   "cell_type": "code",
   "execution_count": null,
   "metadata": {
    "colab": {
     "base_uri": "https://localhost:8080/",
     "height": 51
    },
    "colab_type": "code",
    "id": "nmpqZB31J6JG",
    "outputId": "d321d47f-5419-492a-c340-50a966fab5d4"
   },
   "outputs": [],
   "source": [
    "# Podemos separar múltiples valores entre comas (\",\")\n",
    "print(\"Carpe\", \"diem\")\n",
    "\n",
    "# También podemos usar el parámetro end=\"\" si queremos que aparezca en la misma línea\n",
    "print(\"Carpe \", end=\"\")\n",
    "print(\"diem\")"
   ]
  },
  {
   "cell_type": "markdown",
   "execution_count": null,
   "metadata": {
    "colab_type": "text",
    "id": "wechVjeNKd89"
   },
   "outputs": [],
   "source": [
    "__Imprimir usando cadenas _\"f\"_:__\n",
    "\n",
    "Las cadenas f proporcionan una forma sencilla de integrar variables y expresiones dentro de una cadena de texto de forma muy sencilla."
   ]
  },
  {
   "cell_type": "code",
   "execution_count": null,
   "metadata": {
    "colab": {
     "base_uri": "https://localhost:8080/",
     "height": 34
    },
    "colab_type": "code",
    "id": "dN1iL1hCLjRg",
    "outputId": "dac49b05-538f-4ab6-d46e-fdc81ed575d2"
   },
   "outputs": [],
   "source": [
    "x = 22\n",
    "y = 42\n",
    "# Podemos poner los nombres de variables entre {llaves} para imprimir valores:\n",
    "print(f'Sabías que {x} + {y} es {x+y}?')"
   ]
  },
  {
   "cell_type": "markdown",
   "execution_count": null,
   "metadata": {
    "colab_type": "text",
    "id": "Wjta-tS_M9zp"
   },
   "outputs": [],
   "source": [
    "### Importación de módulos\n",
    "Los lenguajes de programación cuentan con módulos que permiten reutilizar código de otros programadores así como invocar funciones complejas ya existentes en el lenguaje.\n",
    "\n",
    "Por ejemplo, existe un módulo _math_ que cuenta con operaciones matemáticas ya definidas para que podamos usarlas sin necesidad de programar como se hace la operación:"
   ]
  },
  {
   "cell_type": "code",
   "execution_count": null,
   "metadata": {
    "colab": {
     "base_uri": "https://localhost:8080/",
     "height": 163
    },
    "colab_type": "code",
    "id": "PKjQIkB4OlqQ",
    "outputId": "c0170be1-ad59-4690-ea76-1f7317c0cbd6"
   },
   "outputs": [],
   "source": [
    "# Si queremos usar la función factorial podemos hacerlo de la siguiente manera:\n",
    "print(math.factorial(5))"
   ]
  },
  {
   "cell_type": "markdown",
   "execution_count": null,
   "metadata": {
    "colab_type": "text",
    "id": "kZ7WyPa9PLbp"
   },
   "outputs": [],
   "source": [
    "__¿Qué sucedió?__ El error anterior se debe a que primero debemos importar el módulo _math_ de la siguiente manera:"
   ]
  },
  {
   "cell_type": "code",
   "execution_count": null,
   "metadata": {
    "colab": {
     "base_uri": "https://localhost:8080/",
     "height": 34
    },
    "colab_type": "code",
    "id": "E0-qMBVVPTjP",
    "outputId": "683de69a-f640-413f-a028-2bb5e55169ca"
   },
   "outputs": [],
   "source": [
    "import math\n",
    "\n",
    "print(math.factorial(5))  # Ahora si! Mucho mejor..."
   ]
  },
  {
   "cell_type": "markdown",
   "execution_count": null,
   "metadata": {
    "colab_type": "text",
    "id": "ZJPblvkGSN_d"
   },
   "outputs": [],
   "source": [
    "## Errores de sintaxis, de tiempo de ejecución y lógicos\n",
    "\n",
    "Lamentablemente, cuando programamos tendremos errores. Podríamos categorizar a los errores en tres tipos: de sintaxis, de runtime y lógicos (o semánticos):\n",
    "\n",
    "* __Errores de sintaxis:__ (en inglés **_syntax errors_**) Estos errores se dan cuando el compilador/intérprete del lenguaje de programación no entiende lo que \"le queremos decir\".\n",
    "* __Errores en tiempo de ejecución:__ (en inglés **_runtime errors_**) Errores que ocurren cuando el programa está en ejecución.\n",
    "* __Errores lógicos:__ Son los errores de los programas cuando no resuelven el problema o arrojan resultados incorrectos."
   ]
  },
  {
   "cell_type": "code",
   "execution_count": null,
   "metadata": {
    "colab": {
     "base_uri": "https://localhost:8080/",
     "height": 129
    },
    "colab_type": "code",
    "id": "UssYjP3DTh8Z",
    "outputId": "e5a74a91-5088-4ccb-be9c-9c5b06a3a57d"
   },
   "outputs": [],
   "source": [
    "# En la siguiente línea de código olvidaremos voluntariamente la comilla final\n",
    "# en el texto \"Uh oh!\"\n",
    "\n",
    "print(\"Uh oh!) # ERROR! missing close-quote\n",
    "\n",
    "# Python output:\n",
    "#   SyntaxError: EOL while scanning string literal"
   ]
  },
  {
   "cell_type": "markdown",
   "execution_count": null,
   "metadata": {
    "colab_type": "text",
    "id": "DgrumfGZUGnU"
   },
   "outputs": [],
   "source": [
    "__Errores de runtime (tiempo de ejecución):__ estos errores se dan cuando las condiciones a las que llega el programa generan un error para un set de datos determinado."
   ]
  },
  {
   "cell_type": "code",
   "execution_count": null,
   "metadata": {
    "colab": {
     "base_uri": "https://localhost:8080/",
     "height": 214
    },
    "colab_type": "code",
    "id": "oZqb1VyoUP15",
    "outputId": "18ee8e0a-6653-4140-dc62-2053449ea69f"
   },
   "outputs": [],
   "source": [
    "print(1/0) # ERROR!  Division by zero!\n",
    "\n",
    "# Python output:\n",
    "#   ZeroDivisionError: integer division or modulo by zero"
   ]
  },
  {
   "cell_type": "markdown",
   "execution_count": null,
   "metadata": {
    "colab_type": "text",
    "id": "xtktqhggUWxR"
   },
   "outputs": [],
   "source": [
    "__Errores de lógicos (o semánticos):__ estos errores se dan cuando el lenguaje entiende lo que tiene que hacer, lo hace pero no es lo que esperamos que haga."
   ]
  },
  {
   "cell_type": "code",
   "execution_count": null,
   "metadata": {
    "colab": {
     "base_uri": "https://localhost:8080/",
     "height": 34
    },
    "colab_type": "code",
    "id": "SbQHmhXzWHB_",
    "outputId": "3740bb84-12a5-4a3b-8e23-bc4a4223a01a"
   },
   "outputs": [],
   "source": [
    "print(\"2+2=5\") # ERROR!  Es incorrecto!!!\n",
    "\n",
    "# Salida de Python:\n",
    "#   2+2=5"
   ]
  },
  {
   "cell_type": "markdown",
   "execution_count": null,
   "metadata": {
    "colab_type": "text",
    "id": "-4n2-Nw-XhzD"
   },
   "outputs": [],
   "source": [
    "### Entrada de Datos Básica\n",
    "\n",
    "En los lenguajes de programación vamos a necesitar ingresar datos para resolver problemas. En Python, podemos solicitar la entrada de datos por teclado con la instrucción _input_.\n",
    "\n",
    "__Podemos ingresar textos (a partir de ahora _strings_):__"
   ]
  },
  {
   "cell_type": "code",
   "execution_count": null,
   "metadata": {
    "colab": {
     "base_uri": "https://localhost:8080/",
     "height": 51
    },
    "colab_type": "code",
    "id": "6nzMO1ESYVCw",
    "outputId": "a5112ba1-314b-454f-d947-80ffcfe7c96d"
   },
   "outputs": [],
   "source": [
    "# Ingresa un texto\n",
    "nombre = input(\"Enter your name: \")\n",
    "\n",
    "# Lo muestra en pantalla\n",
    "print(\"Tu nombre es:\", nombre)"
   ]
  },
  {
   "cell_type": "markdown",
   "execution_count": null,
   "metadata": {
    "colab_type": "text",
    "id": "3it7YCQLY7qv"
   },
   "outputs": [],
   "source": [
    "__Si ingresamos números debemos tener cuidado:__\n",
    "Python por defecto lo guardará como string (texto).\n"
   ]
  },
  {
   "cell_type": "code",
   "execution_count": null,
   "metadata": {
    "colab": {
     "base_uri": "https://localhost:8080/",
     "height": 197
    },
    "colab_type": "code",
    "id": "XQ-DmG3nZHSw",
    "outputId": "1d55ee9a-155e-4bbc-f1b7-646ac9963e23"
   },
   "outputs": [],
   "source": [
    "x = input(\"Ingrese un número: \")\n",
    "print(f\"La mitad de {x} es {x/2}\") # Error!"
   ]
  },
  {
   "cell_type": "markdown",
   "execution_count": null,
   "metadata": {
    "colab_type": "text",
    "id": "oZxRpIypZeOL"
   },
   "outputs": [],
   "source": [
    "Resolvemos esto con la función _int_, que convertirá el dato a numérico:"
   ]
  },
  {
   "cell_type": "code",
   "execution_count": null,
   "metadata": {
    "colab": {
     "base_uri": "https://localhost:8080/",
     "height": 51
    },
    "colab_type": "code",
    "id": "GjDNjAneZmfd",
    "outputId": "ec90b53f-f4b6-49a9-f2bd-d02d0d5c857a"
   },
   "outputs": [],
   "source": [
    "# Agregamos la función int()\n",
    "x = int(input(\"Ingrese un número: \"))\n",
    "\n",
    "# Mostramos la mitad en pantalla\n",
    "print(f\"La mitad de {x} es {x/2}\") # Ahora funciona!\n"
   ]
  }
 ],
 "metadata": {
  "colab": {
   "include_colab_link": true,
   "name": "00_Empezando a Programar.ipynb",
   "provenance": []
  },
  "kernelspec": {
   "display_name": "Python 3",
   "language": "python",
   "name": "python3"
  },
  "language_info": {
   "codemirror_mode": {
    "name": "ipython",
    "version": 3
   },
   "file_extension": ".py",
   "mimetype": "text/x-python",
   "name": "python",
   "nbconvert_exporter": "python",
   "pygments_lexer": "ipython3",
   "version": "3.7.5"
  },
  "toc": {
   "base_numbering": 1,
   "nav_menu": {},
   "number_sections": true,
   "sideBar": true,
   "skip_h1_title": false,
   "title_cell": "Table of Contents",
   "title_sidebar": "Contents",
   "toc_cell": false,
   "toc_position": {},
   "toc_section_display": true,
   "toc_window_display": true
  }
 },
 "nbformat": 4,
 "nbformat_minor": 1
}