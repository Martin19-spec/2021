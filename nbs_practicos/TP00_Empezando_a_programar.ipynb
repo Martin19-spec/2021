{
  "nbformat": 4,
  "nbformat_minor": 0,
  "metadata": {
    "colab": {
      "name": "TP00_Empezando_a_programar.ipynb",
      "provenance": [],
      "authorship_tag": "ABX9TyM/yKn1aOaboEMsa0rjjU/b",
      "include_colab_link": true
    },
    "kernelspec": {
      "name": "python3",
      "display_name": "Python 3"
    }
  },
  "cells": [
    {
      "cell_type": "markdown",
      "metadata": {
        "id": "view-in-github",
        "colab_type": "text"
      },
      "source": [
        "<a href=\"https://colab.research.google.com/github/jumafernandez/IntroProg_UNLu/blob/master/nbs_practicos/TP00_Empezando_a_programar.ipynb\" target=\"_parent\"><img src=\"https://colab.research.google.com/assets/colab-badge.svg\" alt=\"Open In Colab\"/></a>"
      ]
    },
    {
      "cell_type": "markdown",
      "metadata": {
        "id": "5OkE5dtOoXOw",
        "colab_type": "text"
      },
      "source": [
        "# Trabajo Práctico 00: Introducción a Python\n",
        "\n",
        "Para realizar los siguientes ejercicios necesitará tener instalado el intérprete de Python 3.7. \n",
        "\n",
        "El mismo se puede descargar de su sitio oficial: [www.python.org](https://www.python.org)."
      ]
    },
    {
      "cell_type": "markdown",
      "metadata": {
        "id": "3FEVSFS2ouB5",
        "colab_type": "text"
      },
      "source": [
        "**1. Abra la consola de Python y escriba las instrucciones necesarias para mostrar el mensaje “Hola Mundo!”, y luego el resultado de la operación 3 + 4.**"
      ]
    },
    {
      "cell_type": "code",
      "metadata": {
        "id": "DLhHGsr_oWYM",
        "colab_type": "code",
        "colab": {}
      },
      "source": [
        ""
      ],
      "execution_count": 0,
      "outputs": []
    },
    {
      "cell_type": "markdown",
      "metadata": {
        "id": "ilNDP4NupD0y",
        "colab_type": "text"
      },
      "source": [
        "**2. Utilizando el editor de código que prefiera, cree un script llamado hola_mundo.py que realice las mismas operaciones que en el ejercicio\n",
        "anterior. Guarde el script y ejecútelo (mediante una terminal, o la IDE que\n",
        "esté utilizando).**"
      ]
    },
    {
      "cell_type": "markdown",
      "metadata": {
        "id": "fumkn6HtpSqk",
        "colab_type": "text"
      },
      "source": [
        "**3. Ejecute el siguiente contenido:**"
      ]
    },
    {
      "cell_type": "code",
      "metadata": {
        "id": "IIGrCmxmq11d",
        "colab_type": "code",
        "colab": {}
      },
      "source": [
        "pint('Esto es una prueba')\n",
        "\n",
        "print(10 - 1)"
      ],
      "execution_count": 0,
      "outputs": []
    },
    {
      "cell_type": "markdown",
      "metadata": {
        "id": "KpP9CgNNq5pi",
        "colab_type": "text"
      },
      "source": [
        "**¿Qué ha sucedido? Lea detenidamente el error, e intente descubrir qué nos está diciendo el intérprete de Python. ¿En qué línea está el error? ¿Puede corregirlo?**\n",
        "\n",
        "**Respuesta**:"
      ]
    },
    {
      "cell_type": "markdown",
      "metadata": {
        "id": "F-c7bihErNg6",
        "colab_type": "text"
      },
      "source": [
        ""
      ]
    },
    {
      "cell_type": "markdown",
      "metadata": {
        "id": "9DrXy0pJrBFC",
        "colab_type": "text"
      },
      "source": [
        "**4. Un colega programador nos ha proporcionado un script que resuelve la multiplicación de dos números y muestra el resultado en pantalla; el contenido del script es el siguiente:**"
      ]
    },
    {
      "cell_type": "code",
      "metadata": {
        "id": "-xou6DzorHPs",
        "colab_type": "code",
        "colab": {}
      },
      "source": [
        "numero1 = 10\n",
        "\n",
        "numero2 = 5\n",
        "\n",
        "resultado = numero1 * numero2\n",
        "\n",
        "print('El producto entre ' + str(numero1) + ' y ' + str(numero2) + ' da ' + str(resultado))"
      ],
      "execution_count": 0,
      "outputs": []
    },
    {
      "cell_type": "markdown",
      "metadata": {
        "id": "G0HmtapPrTUI",
        "colab_type": "text"
      },
      "source": [
        "Ejecute el código para verificar el funcionamiento del script, y luego analice\n",
        "detenidamente el código y responda:\n",
        "* ¿Qué son numero1, numero2, y resultado?\n",
        "* ¿Por qué es necesario utilizar la función str(...) para mostrar en pantalla los valores de numero1, numero2, y resultado?\n",
        "\n",
        "**Respuesta:**"
      ]
    },
    {
      "cell_type": "markdown",
      "metadata": {
        "id": "C118-1UjrcEf",
        "colab_type": "text"
      },
      "source": [
        ""
      ]
    },
    {
      "cell_type": "markdown",
      "metadata": {
        "id": "1XY_09vWrgR8",
        "colab_type": "text"
      },
      "source": [
        "**5. Escriba a continuación un programa que almacene su nombre completo en una variable, y luego lo muestre en pantalla.**"
      ]
    },
    {
      "cell_type": "code",
      "metadata": {
        "id": "7isKsWx9sCUm",
        "colab_type": "code",
        "colab": {}
      },
      "source": [
        ""
      ],
      "execution_count": 0,
      "outputs": []
    },
    {
      "cell_type": "markdown",
      "metadata": {
        "id": "BHOQwphIr9Wk",
        "colab_type": "text"
      },
      "source": [
        "**6. Modifique el código del ejercicio anterior para que el nombre se almacene en una variable, y el apellido en otra. Además, introduzca una tercera variable\n",
        "para almacenar su edad. Ahora, en pantalla muestre el mensaje *“Mi nombre completo es [NOMBRE] [APELLIDO] y tengo [EDAD] años.”*.**"
      ]
    },
    {
      "cell_type": "code",
      "metadata": {
        "id": "H1CRzMAPsC9M",
        "colab_type": "code",
        "colab": {}
      },
      "source": [
        ""
      ],
      "execution_count": 0,
      "outputs": []
    },
    {
      "cell_type": "markdown",
      "metadata": {
        "id": "u2HDZog0sKS_",
        "colab_type": "text"
      },
      "source": [
        "**7. Escriba el código que almacene su número favorito en una variable. Luego muestre en pantalla el mensaje *“Mi número favorito es [N]”*.**"
      ]
    },
    {
      "cell_type": "code",
      "metadata": {
        "id": "Pz-nS-n_sQ-8",
        "colab_type": "code",
        "colab": {}
      },
      "source": [
        ""
      ],
      "execution_count": 0,
      "outputs": []
    },
    {
      "cell_type": "markdown",
      "metadata": {
        "id": "-7ZLFokcsRI1",
        "colab_type": "text"
      },
      "source": [
        "**8. Se le ha solicitado a dos programadores que resuelvan el mismo problema:\n",
        "conociendo el total de inscriptos de una asignatura y cuántos alumnos han asistido a la clase de hoy, queremos un programa que nos muestre en pantalla el porcentaje de asistencia del día de hoy. Las dos versiones que realizaron los programadores son:**\n",
        "\n",
        "**Programador A:**"
      ]
    },
    {
      "cell_type": "code",
      "metadata": {
        "id": "Cd53allNsckg",
        "colab_type": "code",
        "colab": {}
      },
      "source": [
        "# almaceno cuántos alumnos asistieron a la clase de hoy\n",
        "alumnos_presentes = 35\n",
        "\n",
        "# almaceno el total de inscriptos en la asignatura\n",
        "alumnos_inscriptos = 54\n",
        "\n",
        "# calculo del porcentaje de alumnos presentes en la clase de hoy\n",
        "porcentaje_presentes = (alumnos_presentes * 100) / alumnos_inscriptos\n",
        "\n",
        "# muestro el porcentaje calculado en pantalla\n",
        "print('Hoy asistió el ' + str(porcentaje_presentes) + ' por ciento del alumnado.')"
      ],
      "execution_count": 0,
      "outputs": []
    },
    {
      "cell_type": "markdown",
      "metadata": {
        "id": "JMwtU8igsjaB",
        "colab_type": "text"
      },
      "source": [
        "**Programador B**:"
      ]
    },
    {
      "cell_type": "code",
      "metadata": {
        "id": "q3ZEfvJPslYc",
        "colab_type": "code",
        "colab": {}
      },
      "source": [
        "p = 35\n",
        "\n",
        "i = 54\n",
        "\n",
        "pp = (p * 100) / i\n",
        "print('Hoy asistió el ' + str(pp) + ' por ciento del alumnado.')"
      ],
      "execution_count": 0,
      "outputs": []
    },
    {
      "cell_type": "markdown",
      "metadata": {
        "id": "e-dQrhFwspX9",
        "colab_type": "text"
      },
      "source": [
        "**Analice detenidamente ambas versiones, y luego responda:**\n",
        "- **¿Ambas versiones resuelven el problema?**\n",
        "- **¿Cuál versión es más legible y fácil de comprender?**\n",
        "- **¿Qué desventajas tiene escribir código en la forma en que lo hace el\n",
        "Programador B?.**\n",
        "\n",
        "**Respuesta:**"
      ]
    },
    {
      "cell_type": "markdown",
      "metadata": {
        "id": "qwL80DHns6wF",
        "colab_type": "text"
      },
      "source": [
        ""
      ]
    }
  ]
}